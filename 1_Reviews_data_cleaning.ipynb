{
 "cells": [
  {
   "cell_type": "code",
   "execution_count": 1,
   "metadata": {},
   "outputs": [],
   "source": [
    "import numpy as np\n",
    "import pandas as pd\n",
    "import string\n",
    "import re\n"
   ]
  },
  {
   "cell_type": "code",
   "execution_count": 129,
   "metadata": {},
   "outputs": [
    {
     "data": {
      "text/html": [
       "<div>\n",
       "<style scoped>\n",
       "    .dataframe tbody tr th:only-of-type {\n",
       "        vertical-align: middle;\n",
       "    }\n",
       "\n",
       "    .dataframe tbody tr th {\n",
       "        vertical-align: top;\n",
       "    }\n",
       "\n",
       "    .dataframe thead th {\n",
       "        text-align: right;\n",
       "    }\n",
       "</style>\n",
       "<table border=\"1\" class=\"dataframe\">\n",
       "  <thead>\n",
       "    <tr style=\"text-align: right;\">\n",
       "      <th></th>\n",
       "      <th>CRating</th>\n",
       "      <th>TMeter</th>\n",
       "      <th>Title</th>\n",
       "      <th>Review</th>\n",
       "      <th>Critic</th>\n",
       "    </tr>\n",
       "  </thead>\n",
       "  <tbody>\n",
       "    <tr>\n",
       "      <th>0</th>\n",
       "      <td>3/5</td>\n",
       "      <td>87%</td>\n",
       "      <td>Ant-Man and the Wasp (2018)</td>\n",
       "      <td>Ant-Man and the Wasp is an airy, nimble piece ...</td>\n",
       "      <td>alex-abad-santos</td>\n",
       "    </tr>\n",
       "    <tr>\n",
       "      <th>1</th>\n",
       "      <td>3.5/5</td>\n",
       "      <td>67%</td>\n",
       "      <td>Ocean's 8 (2018)</td>\n",
       "      <td>Ocean's 8, at its most endearing, is a slick, ...</td>\n",
       "      <td>alex-abad-santos</td>\n",
       "    </tr>\n",
       "    <tr>\n",
       "      <th>2</th>\n",
       "      <td>4.5/5</td>\n",
       "      <td>83%</td>\n",
       "      <td>Deadpool 2 (2018)</td>\n",
       "      <td>A delirious exhibition for the bawdy, acerbic ...</td>\n",
       "      <td>alex-abad-santos</td>\n",
       "    </tr>\n",
       "    <tr>\n",
       "      <th>3</th>\n",
       "      <td>NaN</td>\n",
       "      <td>83%</td>\n",
       "      <td>Avengers: Infinity War (2018)</td>\n",
       "      <td>For the first time in a while, I can't wait to...</td>\n",
       "      <td>alex-abad-santos</td>\n",
       "    </tr>\n",
       "    <tr>\n",
       "      <th>4</th>\n",
       "      <td>4.5/5</td>\n",
       "      <td>97%</td>\n",
       "      <td>Black Panther (2018)</td>\n",
       "      <td>Coogler and his talented cast and team tell a ...</td>\n",
       "      <td>alex-abad-santos</td>\n",
       "    </tr>\n",
       "  </tbody>\n",
       "</table>\n",
       "</div>"
      ],
      "text/plain": [
       "  CRating TMeter                          Title  \\\n",
       "0     3/5    87%    Ant-Man and the Wasp (2018)   \n",
       "1   3.5/5    67%               Ocean's 8 (2018)   \n",
       "2   4.5/5    83%              Deadpool 2 (2018)   \n",
       "3     NaN    83%  Avengers: Infinity War (2018)   \n",
       "4   4.5/5    97%           Black Panther (2018)   \n",
       "\n",
       "                                              Review            Critic  \n",
       "0  Ant-Man and the Wasp is an airy, nimble piece ...  alex-abad-santos  \n",
       "1  Ocean's 8, at its most endearing, is a slick, ...  alex-abad-santos  \n",
       "2  A delirious exhibition for the bawdy, acerbic ...  alex-abad-santos  \n",
       "3  For the first time in a while, I can't wait to...  alex-abad-santos  \n",
       "4  Coogler and his talented cast and team tell a ...  alex-abad-santos  "
      ]
     },
     "execution_count": 129,
     "metadata": {},
     "output_type": "execute_result"
    }
   ],
   "source": [
    "all_reviews=pd.read_csv('all_critic_opinions_file.csv')\n",
    "all_reviews=all_reviews.drop('Unnamed: 0',axis=1)\n",
    "all_reviews=all_reviews.reset_index(drop=True)\n",
    "all_reviews.head()"
   ]
  },
  {
   "cell_type": "code",
   "execution_count": 80,
   "metadata": {},
   "outputs": [
    {
     "data": {
      "text/plain": [
       "(670325, 5)"
      ]
     },
     "execution_count": 80,
     "metadata": {},
     "output_type": "execute_result"
    }
   ],
   "source": [
    "all_reviews.shape"
   ]
  },
  {
   "cell_type": "code",
   "execution_count": 81,
   "metadata": {},
   "outputs": [
    {
     "name": "stdout",
     "output_type": "stream",
     "text": [
      "Number of films: 38850 Number of critics: 3260\n"
     ]
    }
   ],
   "source": [
    "print('Number of films: '+str(len(all_reviews['Title'].unique())),\\\n",
    "      'Number of critics: '+str(len(all_reviews['Critic'].unique())))"
   ]
  },
  {
   "cell_type": "markdown",
   "metadata": {},
   "source": [
    "__Data cleaning:__"
   ]
  },
  {
   "cell_type": "code",
   "execution_count": 130,
   "metadata": {},
   "outputs": [
    {
     "data": {
      "text/plain": [
       "(555341, 6)"
      ]
     },
     "execution_count": 130,
     "metadata": {},
     "output_type": "execute_result"
    }
   ],
   "source": [
    "all_reviews =all_reviews[all_reviews['Title'].notnull()]\n",
    "all_reviews_films=all_reviews.drop(all_reviews[all_reviews['Title'].str.contains('TV')].index)\n",
    "all_reviews_films=all_reviews_films.drop(all_reviews_films[all_reviews_films['Review']=='Review'].index)\n",
    "all_reviews_films['Year']=all_reviews_films.Title.str[-5:-1]\n",
    "all_reviews_films=all_reviews_films[['CRating','TMeter','Title','Year','Review','Critic']]\n",
    "all_reviews_films['Title']=all_reviews_films.Title.str[:-7]\n",
    "all_reviews_films['TMeter']=all_reviews_films.TMeter.str[:-1]\n",
    "all_reviews_films.shape"
   ]
  },
  {
   "cell_type": "code",
   "execution_count": 131,
   "metadata": {},
   "outputs": [
    {
     "data": {
      "text/plain": [
       "(531960, 6)"
      ]
     },
     "execution_count": 131,
     "metadata": {},
     "output_type": "execute_result"
    }
   ],
   "source": [
    "all_reviews_films=all_reviews_films.drop(all_reviews_films[all_reviews_films['TMeter']=='No Score Ye'].index)\n",
    "all_reviews_films.shape"
   ]
  },
  {
   "cell_type": "markdown",
   "metadata": {},
   "source": [
    "__Changing Tomatometer (film rating) values to numeric and replacing all values >= 0.6 with 1 (Tomatometer:Fresh) and all values <0.6 with 0 (Tomatometer:Rotten) in additional column TMeter1:__"
   ]
  },
  {
   "cell_type": "code",
   "execution_count": 132,
   "metadata": {},
   "outputs": [],
   "source": [
    "all_reviews_films['TMeter']=pd.to_numeric(all_reviews_films['TMeter'])/100\n",
    "all_reviews_films['TMeter1']=all_reviews_films['TMeter']\n",
    "all_reviews_films.loc[all_reviews_films['TMeter1'] >=0.6, 'TMeter1'] = 1\n",
    "all_reviews_films.loc[all_reviews_films['TMeter1'] <0.6, 'TMeter1'] = 0"
   ]
  },
  {
   "cell_type": "code",
   "execution_count": 91,
   "metadata": {},
   "outputs": [
    {
     "data": {
      "text/html": [
       "<div>\n",
       "<style scoped>\n",
       "    .dataframe tbody tr th:only-of-type {\n",
       "        vertical-align: middle;\n",
       "    }\n",
       "\n",
       "    .dataframe tbody tr th {\n",
       "        vertical-align: top;\n",
       "    }\n",
       "\n",
       "    .dataframe thead th {\n",
       "        text-align: right;\n",
       "    }\n",
       "</style>\n",
       "<table border=\"1\" class=\"dataframe\">\n",
       "  <thead>\n",
       "    <tr style=\"text-align: right;\">\n",
       "      <th></th>\n",
       "      <th>CRating</th>\n",
       "      <th>TMeter</th>\n",
       "      <th>Title</th>\n",
       "      <th>Year</th>\n",
       "      <th>Review</th>\n",
       "      <th>Critic</th>\n",
       "      <th>TMeter1</th>\n",
       "    </tr>\n",
       "  </thead>\n",
       "  <tbody>\n",
       "    <tr>\n",
       "      <th>115589</th>\n",
       "      <td>NaN</td>\n",
       "      <td>0.21</td>\n",
       "      <td>Ma ma</td>\n",
       "      <td>2016</td>\n",
       "      <td>Even knowing that Ma Ma is intended to be a wo...</td>\n",
       "      <td>sherilyn-connelly</td>\n",
       "      <td>0.0</td>\n",
       "    </tr>\n",
       "    <tr>\n",
       "      <th>429834</th>\n",
       "      <td>4.5/5</td>\n",
       "      <td>0.94</td>\n",
       "      <td>Christmas in July</td>\n",
       "      <td>1940</td>\n",
       "      <td>Tragically underseen, this Preston Sturges com...</td>\n",
       "      <td>christopher-null</td>\n",
       "      <td>1.0</td>\n",
       "    </tr>\n",
       "    <tr>\n",
       "      <th>365761</th>\n",
       "      <td>4/5</td>\n",
       "      <td>0.80</td>\n",
       "      <td>Unsane</td>\n",
       "      <td>2018</td>\n",
       "      <td>Unsane is sometimes plodding for a movie that ...</td>\n",
       "      <td>ian-mantgani</td>\n",
       "      <td>1.0</td>\n",
       "    </tr>\n",
       "    <tr>\n",
       "      <th>163907</th>\n",
       "      <td>4/5</td>\n",
       "      <td>0.96</td>\n",
       "      <td>Restrepo</td>\n",
       "      <td>2010</td>\n",
       "      <td>First-rate stuff.‐ Sky Cinema  - EDIT  Read Mo...</td>\n",
       "      <td>tim-evans</td>\n",
       "      <td>1.0</td>\n",
       "    </tr>\n",
       "    <tr>\n",
       "      <th>429907</th>\n",
       "      <td>3/5</td>\n",
       "      <td>0.88</td>\n",
       "      <td>The Glenn Miller Story</td>\n",
       "      <td>1953</td>\n",
       "      <td>Quote not available.‐ Filmcritic.com  - EDIT  ...</td>\n",
       "      <td>christopher-null</td>\n",
       "      <td>1.0</td>\n",
       "    </tr>\n",
       "    <tr>\n",
       "      <th>185777</th>\n",
       "      <td>8/10</td>\n",
       "      <td>0.86</td>\n",
       "      <td>The Omen</td>\n",
       "      <td>1976</td>\n",
       "      <td>All references to prophecy and the Antichrist ...</td>\n",
       "      <td>bill-gibron</td>\n",
       "      <td>1.0</td>\n",
       "    </tr>\n",
       "    <tr>\n",
       "      <th>379517</th>\n",
       "      <td>A-</td>\n",
       "      <td>0.97</td>\n",
       "      <td>Tangerine</td>\n",
       "      <td>2015</td>\n",
       "      <td>Tangerine is touching for its non-condescendin...</td>\n",
       "      <td>joe-mcgovern</td>\n",
       "      <td>1.0</td>\n",
       "    </tr>\n",
       "  </tbody>\n",
       "</table>\n",
       "</div>"
      ],
      "text/plain": [
       "       CRating  TMeter                   Title  Year  \\\n",
       "115589     NaN    0.21                   Ma ma  2016   \n",
       "429834   4.5/5    0.94       Christmas in July  1940   \n",
       "365761     4/5    0.80                  Unsane  2018   \n",
       "163907     4/5    0.96                Restrepo  2010   \n",
       "429907     3/5    0.88  The Glenn Miller Story  1953   \n",
       "185777    8/10    0.86                The Omen  1976   \n",
       "379517      A-    0.97               Tangerine  2015   \n",
       "\n",
       "                                                   Review             Critic  \\\n",
       "115589  Even knowing that Ma Ma is intended to be a wo...  sherilyn-connelly   \n",
       "429834  Tragically underseen, this Preston Sturges com...   christopher-null   \n",
       "365761  Unsane is sometimes plodding for a movie that ...       ian-mantgani   \n",
       "163907  First-rate stuff.‐ Sky Cinema  - EDIT  Read Mo...          tim-evans   \n",
       "429907  Quote not available.‐ Filmcritic.com  - EDIT  ...   christopher-null   \n",
       "185777  All references to prophecy and the Antichrist ...        bill-gibron   \n",
       "379517  Tangerine is touching for its non-condescendin...       joe-mcgovern   \n",
       "\n",
       "        TMeter1  \n",
       "115589      0.0  \n",
       "429834      1.0  \n",
       "365761      1.0  \n",
       "163907      1.0  \n",
       "429907      1.0  \n",
       "185777      1.0  \n",
       "379517      1.0  "
      ]
     },
     "execution_count": 91,
     "metadata": {},
     "output_type": "execute_result"
    }
   ],
   "source": [
    "all_reviews_films.sample(7)"
   ]
  },
  {
   "cell_type": "markdown",
   "metadata": {},
   "source": [
    "__Cleaning the Review column:__"
   ]
  },
  {
   "cell_type": "code",
   "execution_count": 133,
   "metadata": {},
   "outputs": [],
   "source": [
    "all_reviews_films=all_reviews_films.drop(all_reviews_films[all_reviews_films['Review'].str.contains('Quote not available')].index)\n",
    "all_reviews_films=all_reviews_films.drop(all_reviews_films[all_reviews_films['Review'].str.contains('Full review in')].index)\n",
    "all_reviews_films=all_reviews_films.drop(all_reviews_films[all_reviews_films['Review'].str.contains('Full Review in')].index)"
   ]
  },
  {
   "cell_type": "code",
   "execution_count": 104,
   "metadata": {},
   "outputs": [
    {
     "data": {
      "text/plain": [
       "(511571, 7)"
      ]
     },
     "execution_count": 104,
     "metadata": {},
     "output_type": "execute_result"
    }
   ],
   "source": [
    "all_reviews_films.shape"
   ]
  },
  {
   "cell_type": "code",
   "execution_count": 105,
   "metadata": {},
   "outputs": [
    {
     "name": "stdout",
     "output_type": "stream",
     "text": [
      "Number of films: 21401 Number of critics: 2525\n"
     ]
    }
   ],
   "source": [
    "print('Number of films: '+str(len(all_reviews_films['Title'].unique())),\\\n",
    "      'Number of critics: '+str(len(all_reviews_films['Critic'].unique())))"
   ]
  },
  {
   "cell_type": "markdown",
   "metadata": {},
   "source": [
    "__Removing all the films that have less then 5 reviews:__"
   ]
  },
  {
   "cell_type": "code",
   "execution_count": 134,
   "metadata": {},
   "outputs": [],
   "source": [
    "counts=all_reviews_films['Title'].value_counts()\n",
    "all_reviews_films=all_reviews_films[all_reviews_films['Title'].isin(counts[counts>5].index)]"
   ]
  },
  {
   "cell_type": "code",
   "execution_count": 107,
   "metadata": {},
   "outputs": [
    {
     "name": "stdout",
     "output_type": "stream",
     "text": [
      "Number of critic reviews: 490078 Number of films: 13630\n"
     ]
    }
   ],
   "source": [
    "print('Number of critic reviews: '+str(all_reviews_films.shape[0]), 'Number of films: '+str(len(all_reviews_films['Title'].value_counts())))"
   ]
  },
  {
   "cell_type": "markdown",
   "metadata": {},
   "source": [
    "__Review text cleaning to remove unnecessary information about the review source:__"
   ]
  },
  {
   "cell_type": "code",
   "execution_count": 137,
   "metadata": {},
   "outputs": [
    {
     "data": {
      "text/plain": [
       "\"Ocean's 8, at its most endearing, is a slick, glamorous romp that makes you yearn for three more hours with its impossibly charismatic crew.‐ Vox  - EDIT  Read More | Posted Jun 5, 2018\""
      ]
     },
     "execution_count": 137,
     "metadata": {},
     "output_type": "execute_result"
    }
   ],
   "source": [
    "all_reviews_films['Review'].iloc[1]"
   ]
  },
  {
   "cell_type": "code",
   "execution_count": 138,
   "metadata": {},
   "outputs": [
    {
     "data": {
      "text/plain": [
       "\"Ocean's 8, at its most endearing, is a slick, glamorous romp that makes you yearn for three more hours with its impossibly charismatic crew.‐ Vox  - EDIT  Read More | Posted Jun 5, 2018\""
      ]
     },
     "execution_count": 138,
     "metadata": {},
     "output_type": "execute_result"
    }
   ],
   "source": [
    "all_reviews_films['Review'].iloc[1]"
   ]
  },
  {
   "cell_type": "code",
   "execution_count": 139,
   "metadata": {},
   "outputs": [
    {
     "data": {
      "text/plain": [
       "[\"Ocean's 8, at its most endearing, is a slick, glamorous romp that makes you yearn for three more hours with its impossibly charismatic crew\"]"
      ]
     },
     "execution_count": 139,
     "metadata": {},
     "output_type": "execute_result"
    }
   ],
   "source": [
    "all_reviews_films['Review']=all_reviews_films['Review'].str.split('.').str[:-1]\n",
    "all_reviews_films['Review'].loc[1]"
   ]
  },
  {
   "cell_type": "code",
   "execution_count": 140,
   "metadata": {},
   "outputs": [
    {
     "data": {
      "text/plain": [
       "\"Ocean's 8, at its most endearing, is a slick, glamorous romp that makes you yearn for three more hours with its impossibly charismatic crew\""
      ]
     },
     "execution_count": 140,
     "metadata": {},
     "output_type": "execute_result"
    }
   ],
   "source": [
    "all_reviews_films['Review']=all_reviews_films['Review'].str.join('')\n",
    "all_reviews_films['Review'].iloc[1]"
   ]
  },
  {
   "cell_type": "markdown",
   "metadata": {},
   "source": [
    "__Removing special characters, numbers, as well as words like 'film' and 'movie' from the text:__"
   ]
  },
  {
   "cell_type": "code",
   "execution_count": 141,
   "metadata": {},
   "outputs": [
    {
     "data": {
      "text/plain": [
       "'Oceans , at its most endearing, is a slick, glamorous romp that makes you yearn for three more hours with its impossibly charismatic crew'"
      ]
     },
     "execution_count": 141,
     "metadata": {},
     "output_type": "execute_result"
    }
   ],
   "source": [
    "all_reviews_films['Review']=all_reviews_films['Review'].str.replace('\\d','')\n",
    "all_reviews_films['Review']=all_reviews_films['Review'].str.replace('\\'','')\n",
    "all_reviews_films['Review']=all_reviews_films['Review'].str.replace('/',' ')\n",
    "all_reviews_films['Review']=all_reviews_films['Review'].str.replace('-',' ')\n",
    "all_reviews_films['Review']=all_reviews_films['Review'].str.replace('`','')\n",
    "all_reviews_films['Review']=all_reviews_films['Review'].str.replace('film','')\n",
    "all_reviews_films['Review']=all_reviews_films['Review'].str.replace('movie','')\n",
    "all_reviews_films['Review'].iloc[1]"
   ]
  },
  {
   "cell_type": "code",
   "execution_count": 143,
   "metadata": {},
   "outputs": [],
   "source": [
    "all_reviews_films=all_reviews_films[all_reviews_films['Review'].isnull()==False]"
   ]
  },
  {
   "cell_type": "code",
   "execution_count": 144,
   "metadata": {},
   "outputs": [],
   "source": [
    "all_reviews_films.to_csv('all_critic_opinions_movies.csv')"
   ]
  },
  {
   "cell_type": "code",
   "execution_count": 148,
   "metadata": {},
   "outputs": [
    {
     "data": {
      "text/html": [
       "<div>\n",
       "<style scoped>\n",
       "    .dataframe tbody tr th:only-of-type {\n",
       "        vertical-align: middle;\n",
       "    }\n",
       "\n",
       "    .dataframe tbody tr th {\n",
       "        vertical-align: top;\n",
       "    }\n",
       "\n",
       "    .dataframe thead th {\n",
       "        text-align: right;\n",
       "    }\n",
       "</style>\n",
       "<table border=\"1\" class=\"dataframe\">\n",
       "  <thead>\n",
       "    <tr style=\"text-align: right;\">\n",
       "      <th></th>\n",
       "      <th>TMeter</th>\n",
       "      <th>Title</th>\n",
       "      <th>Year</th>\n",
       "      <th>Review</th>\n",
       "      <th>TMeter1</th>\n",
       "    </tr>\n",
       "  </thead>\n",
       "  <tbody>\n",
       "    <tr>\n",
       "      <th>373932</th>\n",
       "      <td>0.92</td>\n",
       "      <td>Network</td>\n",
       "      <td>1976</td>\n",
       "      <td>Chayefsky was apparently serious about much of...</td>\n",
       "      <td>1.0</td>\n",
       "    </tr>\n",
       "    <tr>\n",
       "      <th>423014</th>\n",
       "      <td>0.90</td>\n",
       "      <td>Calvary</td>\n",
       "      <td>2014</td>\n",
       "      <td>Its a  that works almost like a sermon: It los...</td>\n",
       "      <td>1.0</td>\n",
       "    </tr>\n",
       "    <tr>\n",
       "      <th>177292</th>\n",
       "      <td>0.19</td>\n",
       "      <td>Assassin's Creed</td>\n",
       "      <td>2016</td>\n",
       "      <td>\"Assassins Creed\" doesnt allow us to hold the ...</td>\n",
       "      <td>0.0</td>\n",
       "    </tr>\n",
       "    <tr>\n",
       "      <th>359813</th>\n",
       "      <td>0.29</td>\n",
       "      <td>The Hunted</td>\n",
       "      <td>2003</td>\n",
       "      <td>Ludicrous, plotless, ho hum tale of lurid conf...</td>\n",
       "      <td>0.0</td>\n",
       "    </tr>\n",
       "    <tr>\n",
       "      <th>79889</th>\n",
       "      <td>0.85</td>\n",
       "      <td>2046</td>\n",
       "      <td>2005</td>\n",
       "      <td>is a must for fans of Wong Kar Wai with its s...</td>\n",
       "      <td>1.0</td>\n",
       "    </tr>\n",
       "    <tr>\n",
       "      <th>396702</th>\n",
       "      <td>0.96</td>\n",
       "      <td>The Innocents</td>\n",
       "      <td>1961</td>\n",
       "      <td>So much is suggested, and so little shown</td>\n",
       "      <td>1.0</td>\n",
       "    </tr>\n",
       "    <tr>\n",
       "      <th>150060</th>\n",
       "      <td>0.69</td>\n",
       "      <td>The Runaways</td>\n",
       "      <td>2010</td>\n",
       "      <td>Music video director Floria Sigismondis The Ru...</td>\n",
       "      <td>1.0</td>\n",
       "    </tr>\n",
       "  </tbody>\n",
       "</table>\n",
       "</div>"
      ],
      "text/plain": [
       "        TMeter             Title  Year  \\\n",
       "373932    0.92           Network  1976   \n",
       "423014    0.90           Calvary  2014   \n",
       "177292    0.19  Assassin's Creed  2016   \n",
       "359813    0.29        The Hunted  2003   \n",
       "79889     0.85              2046  2005   \n",
       "396702    0.96     The Innocents  1961   \n",
       "150060    0.69      The Runaways  2010   \n",
       "\n",
       "                                                   Review  TMeter1  \n",
       "373932  Chayefsky was apparently serious about much of...      1.0  \n",
       "423014  Its a  that works almost like a sermon: It los...      1.0  \n",
       "177292  \"Assassins Creed\" doesnt allow us to hold the ...      0.0  \n",
       "359813  Ludicrous, plotless, ho hum tale of lurid conf...      0.0  \n",
       "79889    is a must for fans of Wong Kar Wai with its s...      1.0  \n",
       "396702          So much is suggested, and so little shown      1.0  \n",
       "150060  Music video director Floria Sigismondis The Ru...      1.0  "
      ]
     },
     "execution_count": 148,
     "metadata": {},
     "output_type": "execute_result"
    }
   ],
   "source": [
    "all_reviews_films1=pd.read_csv('all_critic_opinions_movies.csv')\n",
    "all_reviews_films1=all_reviews_films1.drop('Unnamed: 0',axis=1)\n",
    "all_reviews_films1=all_reviews_films1.reset_index(drop=True)\n",
    "all_reviews_films1=all_reviews_films1.drop(['CRating','Critic'],axis=1)\n",
    "all_reviews_films1.sample(7)"
   ]
  },
  {
   "cell_type": "code",
   "execution_count": 149,
   "metadata": {},
   "outputs": [],
   "source": [
    "all_reviews_films1=all_reviews_films1[all_reviews_films1['Review'].isnull()==False]\n"
   ]
  },
  {
   "cell_type": "markdown",
   "metadata": {},
   "source": [
    "__Grouping all the reviews by the title and year of the movie:__"
   ]
  },
  {
   "cell_type": "code",
   "execution_count": 150,
   "metadata": {},
   "outputs": [
    {
     "data": {
      "text/plain": [
       "(14328, 3)"
      ]
     },
     "execution_count": 150,
     "metadata": {},
     "output_type": "execute_result"
    }
   ],
   "source": [
    "all_reviews_films2=all_reviews_films1.groupby(['Title','Year'])['Review'].apply(' '.join).reset_index()\n",
    "all_reviews_films2.shape"
   ]
  },
  {
   "cell_type": "code",
   "execution_count": 151,
   "metadata": {},
   "outputs": [
    {
     "data": {
      "text/html": [
       "<div>\n",
       "<style scoped>\n",
       "    .dataframe tbody tr th:only-of-type {\n",
       "        vertical-align: middle;\n",
       "    }\n",
       "\n",
       "    .dataframe tbody tr th {\n",
       "        vertical-align: top;\n",
       "    }\n",
       "\n",
       "    .dataframe thead th {\n",
       "        text-align: right;\n",
       "    }\n",
       "</style>\n",
       "<table border=\"1\" class=\"dataframe\">\n",
       "  <thead>\n",
       "    <tr style=\"text-align: right;\">\n",
       "      <th></th>\n",
       "      <th>Title</th>\n",
       "      <th>Year</th>\n",
       "      <th>Review</th>\n",
       "    </tr>\n",
       "  </thead>\n",
       "  <tbody>\n",
       "    <tr>\n",
       "      <th>12309</th>\n",
       "      <td>The Revenant</td>\n",
       "      <td>2012</td>\n",
       "      <td>What starts as funny and engaging winds up plo...</td>\n",
       "    </tr>\n",
       "    <tr>\n",
       "      <th>12310</th>\n",
       "      <td>The Revenant</td>\n",
       "      <td>2015</td>\n",
       "      <td>All the more incredible for not needing D glas...</td>\n",
       "    </tr>\n",
       "  </tbody>\n",
       "</table>\n",
       "</div>"
      ],
      "text/plain": [
       "              Title  Year                                             Review\n",
       "12309  The Revenant  2012  What starts as funny and engaging winds up plo...\n",
       "12310  The Revenant  2015  All the more incredible for not needing D glas..."
      ]
     },
     "execution_count": 151,
     "metadata": {},
     "output_type": "execute_result"
    }
   ],
   "source": [
    "all_reviews_films2[all_reviews_films2['Title']=='The Revenant']"
   ]
  },
  {
   "cell_type": "code",
   "execution_count": 152,
   "metadata": {},
   "outputs": [
    {
     "data": {
      "text/plain": [
       "(14328, 4)"
      ]
     },
     "execution_count": 152,
     "metadata": {},
     "output_type": "execute_result"
    }
   ],
   "source": [
    "all_reviews_films3=all_reviews_films1.groupby(['Title','Year'])['TMeter','TMeter1'].max().reset_index()\n",
    "all_reviews_films3.shape"
   ]
  },
  {
   "cell_type": "code",
   "execution_count": 153,
   "metadata": {},
   "outputs": [
    {
     "data": {
      "text/html": [
       "<div>\n",
       "<style scoped>\n",
       "    .dataframe tbody tr th:only-of-type {\n",
       "        vertical-align: middle;\n",
       "    }\n",
       "\n",
       "    .dataframe tbody tr th {\n",
       "        vertical-align: top;\n",
       "    }\n",
       "\n",
       "    .dataframe thead th {\n",
       "        text-align: right;\n",
       "    }\n",
       "</style>\n",
       "<table border=\"1\" class=\"dataframe\">\n",
       "  <thead>\n",
       "    <tr style=\"text-align: right;\">\n",
       "      <th></th>\n",
       "      <th>Title</th>\n",
       "      <th>Year</th>\n",
       "      <th>TMeter</th>\n",
       "      <th>TMeter1</th>\n",
       "    </tr>\n",
       "  </thead>\n",
       "  <tbody>\n",
       "    <tr>\n",
       "      <th>12309</th>\n",
       "      <td>The Revenant</td>\n",
       "      <td>2012</td>\n",
       "      <td>0.56</td>\n",
       "      <td>0.0</td>\n",
       "    </tr>\n",
       "    <tr>\n",
       "      <th>12310</th>\n",
       "      <td>The Revenant</td>\n",
       "      <td>2015</td>\n",
       "      <td>0.80</td>\n",
       "      <td>1.0</td>\n",
       "    </tr>\n",
       "    <tr>\n",
       "      <th>13309</th>\n",
       "      <td>Tully</td>\n",
       "      <td>2002</td>\n",
       "      <td>0.81</td>\n",
       "      <td>1.0</td>\n",
       "    </tr>\n",
       "    <tr>\n",
       "      <th>13310</th>\n",
       "      <td>Tully</td>\n",
       "      <td>2018</td>\n",
       "      <td>0.87</td>\n",
       "      <td>1.0</td>\n",
       "    </tr>\n",
       "  </tbody>\n",
       "</table>\n",
       "</div>"
      ],
      "text/plain": [
       "              Title  Year  TMeter  TMeter1\n",
       "12309  The Revenant  2012    0.56      0.0\n",
       "12310  The Revenant  2015    0.80      1.0\n",
       "13309         Tully  2002    0.81      1.0\n",
       "13310         Tully  2018    0.87      1.0"
      ]
     },
     "execution_count": 153,
     "metadata": {},
     "output_type": "execute_result"
    }
   ],
   "source": [
    "all_reviews_films3[(all_reviews_films3['Title']=='The Revenant')|(all_reviews_films3['Title']=='Tully')]"
   ]
  },
  {
   "cell_type": "code",
   "execution_count": 154,
   "metadata": {},
   "outputs": [
    {
     "data": {
      "text/plain": [
       "(14328, 5)"
      ]
     },
     "execution_count": 154,
     "metadata": {},
     "output_type": "execute_result"
    }
   ],
   "source": [
    "all_reviews_films4=pd.merge(all_reviews_films2,all_reviews_films3,on=('Title','Year'))\n",
    "all_reviews_films4.shape"
   ]
  },
  {
   "cell_type": "code",
   "execution_count": 155,
   "metadata": {},
   "outputs": [
    {
     "data": {
      "text/html": [
       "<div>\n",
       "<style scoped>\n",
       "    .dataframe tbody tr th:only-of-type {\n",
       "        vertical-align: middle;\n",
       "    }\n",
       "\n",
       "    .dataframe tbody tr th {\n",
       "        vertical-align: top;\n",
       "    }\n",
       "\n",
       "    .dataframe thead th {\n",
       "        text-align: right;\n",
       "    }\n",
       "</style>\n",
       "<table border=\"1\" class=\"dataframe\">\n",
       "  <thead>\n",
       "    <tr style=\"text-align: right;\">\n",
       "      <th></th>\n",
       "      <th>Title</th>\n",
       "      <th>Year</th>\n",
       "      <th>Review</th>\n",
       "      <th>TMeter</th>\n",
       "      <th>TMeter1</th>\n",
       "    </tr>\n",
       "  </thead>\n",
       "  <tbody>\n",
       "    <tr>\n",
       "      <th>11498</th>\n",
       "      <td>The Hunger Games: Mockingjay - Part 2</td>\n",
       "      <td>2015</td>\n",
       "      <td>Hate to say it, but \"The Hunger Games\" franchi...</td>\n",
       "      <td>0.70</td>\n",
       "      <td>1.0</td>\n",
       "    </tr>\n",
       "    <tr>\n",
       "      <th>8583</th>\n",
       "      <td>Pride and Glory</td>\n",
       "      <td>2008</td>\n",
       "      <td>Intelligently directed, beautifully shot (by D...</td>\n",
       "      <td>0.35</td>\n",
       "      <td>0.0</td>\n",
       "    </tr>\n",
       "    <tr>\n",
       "      <th>11143</th>\n",
       "      <td>The Film Critic</td>\n",
       "      <td>2015</td>\n",
       "      <td>gets away with all the ic tropes &amp; clichés tha...</td>\n",
       "      <td>0.45</td>\n",
       "      <td>0.0</td>\n",
       "    </tr>\n",
       "    <tr>\n",
       "      <th>2433</th>\n",
       "      <td>Chocolate</td>\n",
       "      <td>2008</td>\n",
       "      <td>JeeJa Yanin is a sensational discovery but thi...</td>\n",
       "      <td>0.74</td>\n",
       "      <td>1.0</td>\n",
       "    </tr>\n",
       "    <tr>\n",
       "      <th>6579</th>\n",
       "      <td>Liza, Liza, Skies Are Grey</td>\n",
       "      <td>2017</td>\n",
       "      <td>Smitten with his characters, Sanders takes the...</td>\n",
       "      <td>0.22</td>\n",
       "      <td>0.0</td>\n",
       "    </tr>\n",
       "  </tbody>\n",
       "</table>\n",
       "</div>"
      ],
      "text/plain": [
       "                                       Title  Year  \\\n",
       "11498  The Hunger Games: Mockingjay - Part 2  2015   \n",
       "8583                         Pride and Glory  2008   \n",
       "11143                        The Film Critic  2015   \n",
       "2433                               Chocolate  2008   \n",
       "6579              Liza, Liza, Skies Are Grey  2017   \n",
       "\n",
       "                                                  Review  TMeter  TMeter1  \n",
       "11498  Hate to say it, but \"The Hunger Games\" franchi...    0.70      1.0  \n",
       "8583   Intelligently directed, beautifully shot (by D...    0.35      0.0  \n",
       "11143  gets away with all the ic tropes & clichés tha...    0.45      0.0  \n",
       "2433   JeeJa Yanin is a sensational discovery but thi...    0.74      1.0  \n",
       "6579   Smitten with his characters, Sanders takes the...    0.22      0.0  "
      ]
     },
     "execution_count": 155,
     "metadata": {},
     "output_type": "execute_result"
    }
   ],
   "source": [
    "all_reviews_films4.sample(5)"
   ]
  },
  {
   "cell_type": "markdown",
   "metadata": {},
   "source": [
    "__Example of the grouped critic's review for one film:__"
   ]
  },
  {
   "cell_type": "code",
   "execution_count": 156,
   "metadata": {},
   "outputs": [
    {
     "data": {
      "text/html": [
       "<div>\n",
       "<style scoped>\n",
       "    .dataframe tbody tr th:only-of-type {\n",
       "        vertical-align: middle;\n",
       "    }\n",
       "\n",
       "    .dataframe tbody tr th {\n",
       "        vertical-align: top;\n",
       "    }\n",
       "\n",
       "    .dataframe thead th {\n",
       "        text-align: right;\n",
       "    }\n",
       "</style>\n",
       "<table border=\"1\" class=\"dataframe\">\n",
       "  <thead>\n",
       "    <tr style=\"text-align: right;\">\n",
       "      <th></th>\n",
       "      <th>Title</th>\n",
       "      <th>Year</th>\n",
       "      <th>Review</th>\n",
       "      <th>TMeter</th>\n",
       "      <th>TMeter1</th>\n",
       "    </tr>\n",
       "  </thead>\n",
       "  <tbody>\n",
       "    <tr>\n",
       "      <th>230</th>\n",
       "      <td>A Beautiful Mind</td>\n",
       "      <td>2001</td>\n",
       "      <td>The kind of  that makes you wish theyd just do...</td>\n",
       "      <td>0.75</td>\n",
       "      <td>1.0</td>\n",
       "    </tr>\n",
       "  </tbody>\n",
       "</table>\n",
       "</div>"
      ],
      "text/plain": [
       "                Title  Year  \\\n",
       "230  A Beautiful Mind  2001   \n",
       "\n",
       "                                                Review  TMeter  TMeter1  \n",
       "230  The kind of  that makes you wish theyd just do...    0.75      1.0  "
      ]
     },
     "execution_count": 156,
     "metadata": {},
     "output_type": "execute_result"
    }
   ],
   "source": [
    "all_reviews_films4[all_reviews_films4['Title']=='A Beautiful Mind']"
   ]
  },
  {
   "cell_type": "code",
   "execution_count": 157,
   "metadata": {},
   "outputs": [
    {
     "data": {
      "text/plain": [
       "'The kind of  that makes you wish theyd just do away with the Oscars altogether, A Beautiful Mind is as tasteful as a dentists office, and about as exciting Humanistic and engaging piece of popular entertainment As strong a performance as Russell Crowe has ever delivered A brilliant performance by Russell Crowe, who takes his audience on a terrifying journey inside a man tormented by self created mental demons, propels A Beautiful Mind The second, idealised, sentimentalised half of the  is torture, as we plod through the routine Im here to help psychiatrist, the walls plastered with cut up newspapers and the what happens when he stops taking the medicine stuff In a good cast, Jennifer Connelly earns your complete admiration Harrowing, heartbreaking and deeply human A beautiful  At its most effective when it seems to lose the plot in a scrambled second act that posits the Cold War as a collective paranoid delusion, the  reverts to type (and to fact) for a sentimental anti climax All the pieces are there and Ron Howard fits them all together as if playing the perfect game of Go‐ eFilmCritic An excellent  with an interesting and surprising twist‐ ComingSoon Tthe s overweening desire to be taken seriously gets in the way of the story Crowes interpretation of this tortured genius is textured and complex A different  might have been made about a wider sampling of Nashs experiences, but it wouldnt necessarily be a better , and it certainly wouldnt be this  A Beautiful Mind reveals only glimpses of the dark story beneath its sunny imagery, but the performances carry enough weight for it to stand for something A pretty good tear jerker I cant deny how solidly its crafted, how well acted, and, wonder of wonders, how intelligently written and directed‐ eFilmCritic A Beautiful Mind is like a brick to the head to anyone who ever winced at the utterance of \"infinity plus one A Beautiful Mind is not about ideas per se, but about the experience of living in a world defined by ideas As straightforward fiction, this is solid feelgood fare, but the fact that its based on a real person, real success and failure opens it up to far greater scrutiny Pedantic and sophistic‐ MovieMartyr Best  of  A compelling tale with some terrific and touching individual moments, just the right directorial touch, and whats arguably the best performance of the year A Beautiful Mind is the best  yet from director Howard Schizophrenics, notes a psychiatrist in the , are pathologically incapable of recognizing the truth If so, A Beautiful Mind is schizophrenic A Beautiful Mind is one hell of a ‐ Cinemaphile Youre well into the story before you can sift the facts from the hallucinations, a process thats made compelling by Russell Crowes performance in the lead Crowes performance alone is worth the admission price Crowe pulls out the stops, but he looks too bullish and controlled for such a pitiable victim Where the  attempts to visualize Nashs thought, it is not perfect but does a very interesting job‐ recartss A Beautiful Mind is Howards best , and easily one of the best s of the year A pedestrian  with a rudimentary script that forces the actors to create believability where there might otherwise be none Clear the Academy Award decks Here comes this years winner  Crowe disappears into the role of John Nash and proves again that he is one of todays most versatile actors  Howards duty is not journalistic, yet it seems a much more interesting  could have been made about this Nash fellow  Russell Crowe, el Gladiador de la pantalla ofrece sin lugar a dudas, la mejor actuación de su carrera Consistently engrossing as an unusual character study and as a trip to the mysterious border crossing between rarified brilliance and madness It isnt the device thats so crude, but the execution, which turns Nashs persecutory demons into nuisances that wont leave us alone Director Ron Howard has created a moving masterpiece, elegantly guiding the audience through John Forbes Nash Jrs life‐ About A Beautiful Mind is at its best when its subject is at his worst The pieces fall into place with the precision of one of Nashs confounding mathematical theories It presents itself as a biography of the flesh and blood John Nash And in fact, it is really only a flashy, sentimental Hollywood , inspired by a few particular details of the John Nash story Youve gotta hand it to Howard He and A Beautiful Mind got me (and I bet will get you) interested in this subject for the first time since \"new math\" ruined it for most of us in high school Cynics will hate it, but others will rightfully see it as a great cinematic accomplishment which is backed by excellent performances, great direction, a moving score and exquisite cinematography Whod have thought algebra could be so exciting?‐ BBC Its sad to see a beautiful mind whittled down by such a plain one‐ LA Nashs subterranean nightmare takes on the gripping elements of a psychological thriller Crowe, Goldsman and Howard arent trying to solicit love or tears for John Nash, as detractors bitterly claimed \"A Beautiful Mind\" sought only acknowledgement of the silent, invisible and brave struggle that so many with mental illnesses endure each day Ultimately the message is banal and rather repellent: brainwork wrecks your health An affecting motion picture that confronts its subject head on yet doesnt lay its life affirming message on too thick In this case at least, mathematical genius has inspired making genius The biggest load of hooey to stink up the screen this year‐ Salon Its not a crime for the script to gloss over the thornier aspects of Nashs story, but the  seems totally unconvincing, squeezing a real life into a formula thats simultaneously more palatable and less interesting As John Nash, Russell Crowe projects the warts and all persona of a genius trying to conquer mental illness But I cant help reacting negatively to most biopics I never know whats real and whats made up    kinda like Nash himself There is more to admire in A Beautiful Mind than you might suspect, but less than its creators believe [Crowes] work here is indeed a thing of beauty Russell Crowes sweating and facial tics are always entertaining, but Ron Howard never lets you enjoy them, so busy is he directing everyone into a state of uplifting bliss'"
      ]
     },
     "execution_count": 157,
     "metadata": {},
     "output_type": "execute_result"
    }
   ],
   "source": [
    "all_reviews_films4['Review'].loc[230]"
   ]
  },
  {
   "cell_type": "markdown",
   "metadata": {},
   "source": [
    "__Grouped reviews contain the titles of the films which are not useful for the text analysis and have to be removed:__"
   ]
  },
  {
   "cell_type": "code",
   "execution_count": 158,
   "metadata": {},
   "outputs": [],
   "source": [
    "np.warnings.filterwarnings('ignore')"
   ]
  },
  {
   "cell_type": "code",
   "execution_count": 159,
   "metadata": {},
   "outputs": [
    {
     "name": "stdout",
     "output_type": "stream",
     "text": [
      "The kind of  that makes you wish theyd just do away with the Oscars altogether,  is as tasteful as a dentists office, and about as exciting Humanistic and engaging piece of popular entertainment As strong a performance as Russell Crowe has ever delivered A brilliant performance by Russell Crowe, who takes his audience on a terrifying journey inside a man tormented by self created mental demons, propels  The second, idealised, sentimentalised half of the  is torture, as we plod through the routine Im here to help psychiatrist, the walls plastered with cut up newspapers and the what happens when he stops taking the medicine stuff In a good cast, Jennifer Connelly earns your complete admiration Harrowing, heartbreaking and deeply human A beautiful  At its most effective when it seems to lose the plot in a scrambled second act that posits the Cold War as a collective paranoid delusion, the  reverts to type (and to fact) for a sentimental anti climax All the pieces are there and Ron Howard fits them all together as if playing the perfect game of Go‐ eFilmCritic An excellent  with an interesting and surprising twist‐ ComingSoon Tthe s overweening desire to be taken seriously gets in the way of the story Crowes interpretation of this tortured genius is textured and complex A different  might have been made about a wider sampling of Nashs experiences, but it wouldnt necessarily be a better , and it certainly wouldnt be this   reveals only glimpses of the dark story beneath its sunny imagery, but the performances carry enough weight for it to stand for something A pretty good tear jerker I cant deny how solidly its crafted, how well acted, and, wonder of wonders, how intelligently written and directed‐ eFilmCritic  is like a brick to the head to anyone who ever winced at the utterance of \"infinity plus one  is not about ideas per se, but about the experience of living in a world defined by ideas As straightforward fiction, this is solid feelgood fare, but the fact that its based on a real person, real success and failure opens it up to far greater scrutiny Pedantic and sophistic‐ MovieMartyr Best  of  A compelling tale with some terrific and touching individual moments, just the right directorial touch, and whats arguably the best performance of the year  is the best  yet from director Howard Schizophrenics, notes a psychiatrist in the , are pathologically incapable of recognizing the truth If so,  is schizophrenic  is one hell of a ‐ Cinemaphile Youre well into the story before you can sift the facts from the hallucinations, a process thats made compelling by Russell Crowes performance in the lead Crowes performance alone is worth the admission price Crowe pulls out the stops, but he looks too bullish and controlled for such a pitiable victim Where the  attempts to visualize Nashs thought, it is not perfect but does a very interesting job‐ recartss  is Howards best , and easily one of the best s of the year A pedestrian  with a rudimentary script that forces the actors to create believability where there might otherwise be none Clear the Academy Award decks Here comes this years winner  Crowe disappears into the role of John Nash and proves again that he is one of todays most versatile actors  Howards duty is not journalistic, yet it seems a much more interesting  could have been made about this Nash fellow  Russell Crowe, el Gladiador de la pantalla ofrece sin lugar a dudas, la mejor actuación de su carrera Consistently engrossing as an unusual character study and as a trip to the mysterious border crossing between rarified brilliance and madness It isnt the device thats so crude, but the execution, which turns Nashs persecutory demons into nuisances that wont leave us alone Director Ron Howard has created a moving masterpiece, elegantly guiding the audience through John Forbes Nash Jrs life‐ About  is at its best when its subject is at his worst The pieces fall into place with the precision of one of Nashs confounding mathematical theories It presents itself as a biography of the flesh and blood John Nash And in fact, it is really only a flashy, sentimental Hollywood , inspired by a few particular details of the John Nash story Youve gotta hand it to Howard He and  got me (and I bet will get you) interested in this subject for the first time since \"new math\" ruined it for most of us in high school Cynics will hate it, but others will rightfully see it as a great cinematic accomplishment which is backed by excellent performances, great direction, a moving score and exquisite cinematography Whod have thought algebra could be so exciting?‐ BBC Its sad to see a beautiful mind whittled down by such a plain one‐ LA Nashs subterranean nightmare takes on the gripping elements of a psychological thriller Crowe, Goldsman and Howard arent trying to solicit love or tears for John Nash, as detractors bitterly claimed \"\" sought only acknowledgement of the silent, invisible and brave struggle that so many with mental illnesses endure each day Ultimately the message is banal and rather repellent: brainwork wrecks your health An affecting motion picture that confronts its subject head on yet doesnt lay its life affirming message on too thick In this case at least, mathematical genius has inspired making genius The biggest load of hooey to stink up the screen this year‐ Salon Its not a crime for the script to gloss over the thornier aspects of Nashs story, but the  seems totally unconvincing, squeezing a real life into a formula thats simultaneously more palatable and less interesting As John Nash, Russell Crowe projects the warts and all persona of a genius trying to conquer mental illness But I cant help reacting negatively to most biopics I never know whats real and whats made up    kinda like Nash himself There is more to admire in  than you might suspect, but less than its creators believe [Crowes] work here is indeed a thing of beauty Russell Crowes sweating and facial tics are always entertaining, but Ron Howard never lets you enjoy them, so busy is he directing everyone into a state of uplifting bliss\n"
     ]
    }
   ],
   "source": [
    "for i in range(all_reviews_films4.shape[0]):\n",
    "    title=all_reviews_films4['Title'].loc[i]\n",
    "    all_reviews_films4['Review'].loc[i]=all_reviews_films4['Review'].loc[i].replace(title,'')\n",
    "print(all_reviews_films4['Review'].loc[230])"
   ]
  },
  {
   "cell_type": "code",
   "execution_count": 160,
   "metadata": {},
   "outputs": [],
   "source": [
    "all_reviews_films4.to_csv('all_reviews_films4.csv')"
   ]
  }
 ],
 "metadata": {
  "kernelspec": {
   "display_name": "Python 3",
   "language": "python",
   "name": "python3"
  },
  "language_info": {
   "codemirror_mode": {
    "name": "ipython",
    "version": 3
   },
   "file_extension": ".py",
   "mimetype": "text/x-python",
   "name": "python",
   "nbconvert_exporter": "python",
   "pygments_lexer": "ipython3",
   "version": "3.6.6"
  }
 },
 "nbformat": 4,
 "nbformat_minor": 2
}
