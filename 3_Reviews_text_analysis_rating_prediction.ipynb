{
 "cells": [
  {
   "cell_type": "code",
   "execution_count": 1,
   "metadata": {},
   "outputs": [],
   "source": [
    "import numpy as np\n",
    "import matplotlib.pyplot as plt\n",
    "import pandas as pd"
   ]
  },
  {
   "cell_type": "code",
   "execution_count": 3,
   "metadata": {},
   "outputs": [
    {
     "name": "stdout",
     "output_type": "stream",
     "text": [
      "showing info https://raw.githubusercontent.com/nltk/nltk_data/gh-pages/index.xml\n"
     ]
    }
   ],
   "source": [
    "import string\n",
    "import nltk\n",
    "nltk.download()\n",
    "import re\n",
    "from nltk import PorterStemmer\n",
    "from nltk.tokenize import word_tokenize"
   ]
  },
  {
   "cell_type": "code",
   "execution_count": 2,
   "metadata": {},
   "outputs": [],
   "source": [
    "np.warnings.filterwarnings('ignore')"
   ]
  },
  {
   "cell_type": "code",
   "execution_count": 3,
   "metadata": {},
   "outputs": [
    {
     "data": {
      "text/html": [
       "<div>\n",
       "<style scoped>\n",
       "    .dataframe tbody tr th:only-of-type {\n",
       "        vertical-align: middle;\n",
       "    }\n",
       "\n",
       "    .dataframe tbody tr th {\n",
       "        vertical-align: top;\n",
       "    }\n",
       "\n",
       "    .dataframe thead th {\n",
       "        text-align: right;\n",
       "    }\n",
       "</style>\n",
       "<table border=\"1\" class=\"dataframe\">\n",
       "  <thead>\n",
       "    <tr style=\"text-align: right;\">\n",
       "      <th></th>\n",
       "      <th>Title</th>\n",
       "      <th>Year</th>\n",
       "      <th>Review</th>\n",
       "      <th>TMeter</th>\n",
       "      <th>TMeter1</th>\n",
       "    </tr>\n",
       "  </thead>\n",
       "  <tbody>\n",
       "    <tr>\n",
       "      <th>10965</th>\n",
       "      <td>The Deep</td>\n",
       "      <td>2013</td>\n",
       "      <td>Think of it as The Grey () without the wolves,...</td>\n",
       "      <td>0.96</td>\n",
       "      <td>1.0</td>\n",
       "    </tr>\n",
       "    <tr>\n",
       "      <th>12478</th>\n",
       "      <td>The Situation</td>\n",
       "      <td>2006</td>\n",
       "      <td>Having served my duty by pointing out the main...</td>\n",
       "      <td>0.35</td>\n",
       "      <td>0.0</td>\n",
       "    </tr>\n",
       "    <tr>\n",
       "      <th>1621</th>\n",
       "      <td>Big Boys Gone Bananas!*</td>\n",
       "      <td>2012</td>\n",
       "      <td>The s protests of censorship ring hollow given...</td>\n",
       "      <td>0.76</td>\n",
       "      <td>1.0</td>\n",
       "    </tr>\n",
       "    <tr>\n",
       "      <th>6254</th>\n",
       "      <td>Lamb</td>\n",
       "      <td>2015</td>\n",
       "      <td>Far removed from the prettified, exotic look o...</td>\n",
       "      <td>0.88</td>\n",
       "      <td>1.0</td>\n",
       "    </tr>\n",
       "    <tr>\n",
       "      <th>3377</th>\n",
       "      <td>Drag Me to Hell</td>\n",
       "      <td>2009</td>\n",
       "      <td>Theres something fundamentally disappointing a...</td>\n",
       "      <td>0.92</td>\n",
       "      <td>1.0</td>\n",
       "    </tr>\n",
       "    <tr>\n",
       "      <th>5362</th>\n",
       "      <td>Igor</td>\n",
       "      <td>2008</td>\n",
       "      <td>Decent animated horror spoof that plays better...</td>\n",
       "      <td>0.37</td>\n",
       "      <td>0.0</td>\n",
       "    </tr>\n",
       "    <tr>\n",
       "      <th>2221</th>\n",
       "      <td>Carancho</td>\n",
       "      <td>2011</td>\n",
       "      <td>In spite of a commendably nasty noir mentality...</td>\n",
       "      <td>0.87</td>\n",
       "      <td>1.0</td>\n",
       "    </tr>\n",
       "  </tbody>\n",
       "</table>\n",
       "</div>"
      ],
      "text/plain": [
       "                         Title  Year  \\\n",
       "10965                 The Deep  2013   \n",
       "12478            The Situation  2006   \n",
       "1621   Big Boys Gone Bananas!*  2012   \n",
       "6254                      Lamb  2015   \n",
       "3377           Drag Me to Hell  2009   \n",
       "5362                      Igor  2008   \n",
       "2221                  Carancho  2011   \n",
       "\n",
       "                                                  Review  TMeter  TMeter1  \n",
       "10965  Think of it as The Grey () without the wolves,...    0.96      1.0  \n",
       "12478  Having served my duty by pointing out the main...    0.35      0.0  \n",
       "1621   The s protests of censorship ring hollow given...    0.76      1.0  \n",
       "6254   Far removed from the prettified, exotic look o...    0.88      1.0  \n",
       "3377   Theres something fundamentally disappointing a...    0.92      1.0  \n",
       "5362   Decent animated horror spoof that plays better...    0.37      0.0  \n",
       "2221   In spite of a commendably nasty noir mentality...    0.87      1.0  "
      ]
     },
     "execution_count": 3,
     "metadata": {},
     "output_type": "execute_result"
    }
   ],
   "source": [
    "data=pd.read_csv('all_reviews_films4.csv')\n",
    "data=data.drop('Unnamed: 0',axis=1)\n",
    "data.sample(7)"
   ]
  },
  {
   "cell_type": "code",
   "execution_count": 4,
   "metadata": {},
   "outputs": [
    {
     "data": {
      "text/plain": [
       "(14328, 5)"
      ]
     },
     "execution_count": 4,
     "metadata": {},
     "output_type": "execute_result"
    }
   ],
   "source": [
    "data.shape"
   ]
  },
  {
   "cell_type": "markdown",
   "metadata": {},
   "source": [
    "__Example of review before processing:__"
   ]
  },
  {
   "cell_type": "code",
   "execution_count": 6,
   "metadata": {},
   "outputs": [
    {
     "data": {
      "text/plain": [
       "'The kind of  that makes you wish theyd just do away with the Oscars altogether,  is as tasteful as a dentists office, and about as exciting Humanistic and engaging piece of popular entertainment As strong a performance as Russell Crowe has ever delivered A brilliant performance by Russell Crowe, who takes his audience on a terrifying journey inside a man tormented by self created mental demons, propels  The second, idealised, sentimentalised half of the  is torture, as we plod through the routine Im here to help psychiatrist, the walls plastered with cut up newspapers and the what happens when he stops taking the medicine stuff In a good cast, Jennifer Connelly earns your complete admiration Harrowing, heartbreaking and deeply human A beautiful  At its most effective when it seems to lose the plot in a scrambled second act that posits the Cold War as a collective paranoid delusion, the  reverts to type (and to fact) for a sentimental anti climax All the pieces are there and Ron Howard fits them all together as if playing the perfect game of Go‐ eFilmCritic An excellent  with an interesting and surprising twist‐ ComingSoon Tthe s overweening desire to be taken seriously gets in the way of the story Crowes interpretation of this tortured genius is textured and complex A different  might have been made about a wider sampling of Nashs experiences, but it wouldnt necessarily be a better , and it certainly wouldnt be this   reveals only glimpses of the dark story beneath its sunny imagery, but the performances carry enough weight for it to stand for something A pretty good tear jerker I cant deny how solidly its crafted, how well acted, and, wonder of wonders, how intelligently written and directed‐ eFilmCritic  is like a brick to the head to anyone who ever winced at the utterance of \"infinity plus one  is not about ideas per se, but about the experience of living in a world defined by ideas As straightforward fiction, this is solid feelgood fare, but the fact that its based on a real person, real success and failure opens it up to far greater scrutiny Pedantic and sophistic‐ MovieMartyr Best  of  A compelling tale with some terrific and touching individual moments, just the right directorial touch, and whats arguably the best performance of the year  is the best  yet from director Howard Schizophrenics, notes a psychiatrist in the , are pathologically incapable of recognizing the truth If so,  is schizophrenic  is one hell of a ‐ Cinemaphile Youre well into the story before you can sift the facts from the hallucinations, a process thats made compelling by Russell Crowes performance in the lead Crowes performance alone is worth the admission price Crowe pulls out the stops, but he looks too bullish and controlled for such a pitiable victim Where the  attempts to visualize Nashs thought, it is not perfect but does a very interesting job‐ recartss  is Howards best , and easily one of the best s of the year A pedestrian  with a rudimentary script that forces the actors to create believability where there might otherwise be none Clear the Academy Award decks Here comes this years winner  Crowe disappears into the role of John Nash and proves again that he is one of todays most versatile actors  Howards duty is not journalistic, yet it seems a much more interesting  could have been made about this Nash fellow  Russell Crowe, el Gladiador de la pantalla ofrece sin lugar a dudas, la mejor actuación de su carrera Consistently engrossing as an unusual character study and as a trip to the mysterious border crossing between rarified brilliance and madness It isnt the device thats so crude, but the execution, which turns Nashs persecutory demons into nuisances that wont leave us alone Director Ron Howard has created a moving masterpiece, elegantly guiding the audience through John Forbes Nash Jrs life‐ About  is at its best when its subject is at his worst The pieces fall into place with the precision of one of Nashs confounding mathematical theories It presents itself as a biography of the flesh and blood John Nash And in fact, it is really only a flashy, sentimental Hollywood , inspired by a few particular details of the John Nash story Youve gotta hand it to Howard He and  got me (and I bet will get you) interested in this subject for the first time since \"new math\" ruined it for most of us in high school Cynics will hate it, but others will rightfully see it as a great cinematic accomplishment which is backed by excellent performances, great direction, a moving score and exquisite cinematography Whod have thought algebra could be so exciting?‐ BBC Its sad to see a beautiful mind whittled down by such a plain one‐ LA Nashs subterranean nightmare takes on the gripping elements of a psychological thriller Crowe, Goldsman and Howard arent trying to solicit love or tears for John Nash, as detractors bitterly claimed \"\" sought only acknowledgement of the silent, invisible and brave struggle that so many with mental illnesses endure each day Ultimately the message is banal and rather repellent: brainwork wrecks your health An affecting motion picture that confronts its subject head on yet doesnt lay its life affirming message on too thick In this case at least, mathematical genius has inspired making genius The biggest load of hooey to stink up the screen this year‐ Salon Its not a crime for the script to gloss over the thornier aspects of Nashs story, but the  seems totally unconvincing, squeezing a real life into a formula thats simultaneously more palatable and less interesting As John Nash, Russell Crowe projects the warts and all persona of a genius trying to conquer mental illness But I cant help reacting negatively to most biopics I never know whats real and whats made up    kinda like Nash himself There is more to admire in  than you might suspect, but less than its creators believe [Crowes] work here is indeed a thing of beauty Russell Crowes sweating and facial tics are always entertaining, but Ron Howard never lets you enjoy them, so busy is he directing everyone into a state of uplifting bliss'"
      ]
     },
     "execution_count": 6,
     "metadata": {},
     "output_type": "execute_result"
    }
   ],
   "source": [
    "review = data['Review'].loc[230]\n",
    "review"
   ]
  },
  {
   "cell_type": "markdown",
   "metadata": {},
   "source": [
    "__Defining the function for review processing:__"
   ]
  },
  {
   "cell_type": "code",
   "execution_count": 7,
   "metadata": {},
   "outputs": [
    {
     "data": {
      "text/plain": [
       "\"kind make wish theyd away oscar altogeth tast dentist offic excit humanist engag piec popular entertain strong perform russel crow ever deliv brilliant perform russel crow take audienc terrifi journey insid man torment self creat mental demon propel second idealis sentimentalis half tortur plod routin im help psychiatrist wall plaster cut newspap happen stop take medicin stuff good cast jennif connelli earn complet admir harrow heartbreak deepli human beauti effect seem lose plot scrambl second act posit cold war collect paranoid delus revert type fact sentiment anti climax piec ron howard fit togeth play perfect game go‐ efilmcrit excel interest surpris twist‐ comingsoon tthe overween desir taken serious get way stori crow interpret tortur geniu textur complex differ might made wider sampl nash experi wouldnt necessarili better certainli wouldnt reveal glimps dark stori beneath sunni imageri perform carri enough weight stand someth pretti good tear jerker cant deni solidli craft well act wonder wonder intellig written directed‐ efilmcrit like brick head anyon ever winc utter `` infin plu one idea per se experi live world defin idea straightforward fiction solid feelgood fare fact base real person real success failur open far greater scrutini pedant sophistic‐ moviemartyr best compel tale terrif touch individu moment right directori touch what arguabl best perform year best yet director howard schizophren note psychiatrist patholog incap recogn truth schizophren one hell ‐ cinemaphil your well stori sift fact hallucin process that made compel russel crow perform lead crow perform alon worth admiss price crow pull stop look bullish control pitiabl victim attempt visual nash thought perfect interest job‐ recartss howard best easili one best year pedestrian rudimentari script forc actor creat believ might otherwis none clear academi award deck come year winner crow disappear role john nash prove one today versatil actor howard duti journalist yet seem much interest could made nash fellow russel crow el gladiador de la pantalla ofrec sin lugar duda la mejor actuación de su carrera consist engross unusu charact studi trip mysteri border cross rarifi brillianc mad isnt devic that crude execut turn nash persecutori demon nuisanc wont leav us alon director ron howard creat move masterpiec elegantli guid audienc john forb nash jr life‐ best subject worst piec fall place precis one nash confound mathemat theori present biographi flesh blood john nash fact realli flashi sentiment hollywood inspir particular detail john nash stori youv got ta hand howard got bet get interest subject first time sinc `` new math '' ruin us high school cynic hate other right see great cinemat accomplish back excel perform great direct move score exquisit cinematographi whod thought algebra could excit ‐ bbc sad see beauti mind whittl plain one‐ la nash subterranean nightmar take grip element psycholog thriller crow goldsman howard arent tri solicit love tear john nash detractor bitterli claim `` '' sought acknowledg silent invis brave struggl mani mental ill endur day ultim messag banal rather repel brainwork wreck health affect motion pictur confront subject head yet doesnt lay life affirm messag thick case least mathemat geniu inspir make geniu biggest load hooey stink screen year‐ salon crime script gloss thornier aspect nash stori seem total unconvinc squeez real life formula that simultan palat less interest john nash russel crow project wart persona geniu tri conquer mental ill cant help react neg biopic never know what real what made kinda like nash admir might suspect less creator believ crow work inde thing beauti russel crow sweat facial tic alway entertain ron howard never let enjoy busi direct everyon state uplift bliss\""
      ]
     },
     "execution_count": 7,
     "metadata": {},
     "output_type": "execute_result"
    }
   ],
   "source": [
    "stemmer=PorterStemmer()\n",
    "def preprocess_review(review):\n",
    "\n",
    "    rev_lower = review.lower()\n",
    "\n",
    "    words = nltk.word_tokenize(rev_lower)\n",
    "\n",
    "    words_no_punc = [w for w in words if not w in string.punctuation]\n",
    "\n",
    "    words_no_stopwords = [\n",
    "\n",
    "        w \n",
    "\n",
    "        for w in words_no_punc\n",
    "\n",
    "        if not w in nltk.corpus.stopwords.words('english')\n",
    "\n",
    "    ]\n",
    "    \n",
    "    return ' '.join([stemmer.stem(w) for w in words_no_stopwords])\n",
    "\n",
    "preprocess_review(review)"
   ]
  },
  {
   "cell_type": "markdown",
   "metadata": {},
   "source": [
    "__Processing the whole column with the process_review function in three loops:__"
   ]
  },
  {
   "cell_type": "code",
   "execution_count": 16,
   "metadata": {},
   "outputs": [],
   "source": [
    "for i in range(5000):\n",
    "    review=data['Review'].loc[i]\n",
    "    data['Review'].loc[i]=preprocess_review(review)"
   ]
  },
  {
   "cell_type": "code",
   "execution_count": 17,
   "metadata": {},
   "outputs": [],
   "source": [
    "for i in range(5000,10000):\n",
    "    review=data['Review'].loc[i]\n",
    "    data['Review'].loc[i]=preprocess_review(review)"
   ]
  },
  {
   "cell_type": "code",
   "execution_count": 18,
   "metadata": {},
   "outputs": [],
   "source": [
    "for i in range(10000,14328):\n",
    "    review=data['Review'].loc[i]\n",
    "    data['Review'].loc[i]=preprocess_review(review)"
   ]
  },
  {
   "cell_type": "code",
   "execution_count": 21,
   "metadata": {},
   "outputs": [
    {
     "data": {
      "text/plain": [
       "'interest distinct undevelop featur debut kind road mysteri overal narr lack focu though music number stretch nine minut provid cathart slightli clunki conclus compel dignifi perform visual impair musician barakat jabbour lead perform careworn convinc never less compel barren yet tranquil countrysid conceal bloodsh ravag boulghourjian care omit polit religion much possibl your expert lebanon contempl educ though without first flaw echt lebanes drama intriguingli delv innumer layer deceit will amnesia origin civil war continu straightjacket nation psych'"
      ]
     },
     "execution_count": 21,
     "metadata": {},
     "output_type": "execute_result"
    }
   ],
   "source": [
    "data['Review'].loc[13210]"
   ]
  },
  {
   "cell_type": "code",
   "execution_count": 22,
   "metadata": {},
   "outputs": [],
   "source": [
    "data.to_csv('data_for_prediction.csv')"
   ]
  },
  {
   "cell_type": "markdown",
   "metadata": {},
   "source": [
    "__Rating prediction (Fresh(1) or Rotten(0)) with text analysis models:__"
   ]
  },
  {
   "cell_type": "code",
   "execution_count": 3,
   "metadata": {},
   "outputs": [],
   "source": [
    "from sklearn.pipeline import Pipeline, make_pipeline\n",
    "from sklearn.linear_model import LogisticRegression,SGDClassifier\n",
    "from sklearn.model_selection import cross_val_score, cross_val_predict\n",
    "from sklearn import  metrics\n",
    "from sklearn.metrics import accuracy_score, confusion_matrix\n",
    "from sklearn.model_selection import train_test_split, GridSearchCV,StratifiedKFold\n",
    "from sklearn.preprocessing import StandardScaler, Normalizer, MaxAbsScaler\n",
    "from sklearn.tree import DecisionTreeClassifier\n",
    "from sklearn.naive_bayes import MultinomialNB\n",
    "from sklearn.feature_extraction.text import CountVectorizer, TfidfVectorizer\n",
    "from sklearn.svm import SVC\n",
    "from sklearn.ensemble import RandomForestClassifier,BaggingClassifier\n",
    "from sklearn.metrics import accuracy_score, confusion_matrix,precision_score,recall_score,f1_score,classification_report"
   ]
  },
  {
   "cell_type": "code",
   "execution_count": 4,
   "metadata": {},
   "outputs": [
    {
     "data": {
      "text/plain": [
       "(14328, 5)"
      ]
     },
     "execution_count": 4,
     "metadata": {},
     "output_type": "execute_result"
    }
   ],
   "source": [
    "data1=pd.read_csv('data_for_prediction.csv')\n",
    "data1=data1.drop('Unnamed: 0',axis=1)\n",
    "data1.shape"
   ]
  },
  {
   "cell_type": "code",
   "execution_count": 4,
   "metadata": {},
   "outputs": [
    {
     "data": {
      "text/html": [
       "<div>\n",
       "<style scoped>\n",
       "    .dataframe tbody tr th:only-of-type {\n",
       "        vertical-align: middle;\n",
       "    }\n",
       "\n",
       "    .dataframe tbody tr th {\n",
       "        vertical-align: top;\n",
       "    }\n",
       "\n",
       "    .dataframe thead th {\n",
       "        text-align: right;\n",
       "    }\n",
       "</style>\n",
       "<table border=\"1\" class=\"dataframe\">\n",
       "  <thead>\n",
       "    <tr style=\"text-align: right;\">\n",
       "      <th></th>\n",
       "      <th>Title</th>\n",
       "      <th>Year</th>\n",
       "      <th>Review</th>\n",
       "      <th>TMeter</th>\n",
       "      <th>TMeter1</th>\n",
       "    </tr>\n",
       "  </thead>\n",
       "  <tbody>\n",
       "    <tr>\n",
       "      <th>13680</th>\n",
       "      <td>Wah Do Dem</td>\n",
       "      <td>2010</td>\n",
       "      <td>slacker road myth polit packag engagingli chil...</td>\n",
       "      <td>0.72</td>\n",
       "      <td>1.0</td>\n",
       "    </tr>\n",
       "    <tr>\n",
       "      <th>7274</th>\n",
       "      <td>Mission: Impossible III</td>\n",
       "      <td>2006</td>\n",
       "      <td>excit begin end best franchis ‐ filmsinreview ...</td>\n",
       "      <td>0.70</td>\n",
       "      <td>1.0</td>\n",
       "    </tr>\n",
       "    <tr>\n",
       "      <th>6406</th>\n",
       "      <td>Leprechaun: Origins</td>\n",
       "      <td>2014</td>\n",
       "      <td>isnt bad downright insult lipovski noth seri b...</td>\n",
       "      <td>0.00</td>\n",
       "      <td>0.0</td>\n",
       "    </tr>\n",
       "    <tr>\n",
       "      <th>4087</th>\n",
       "      <td>For Your Consideration</td>\n",
       "      <td>2006</td>\n",
       "      <td>thing disappoint watch one favorit comedian st...</td>\n",
       "      <td>0.51</td>\n",
       "      <td>0.0</td>\n",
       "    </tr>\n",
       "    <tr>\n",
       "      <th>1175</th>\n",
       "      <td>Aurora</td>\n",
       "      <td>2011</td>\n",
       "      <td>puiu talent transform highli disturb portrait ...</td>\n",
       "      <td>0.75</td>\n",
       "      <td>1.0</td>\n",
       "    </tr>\n",
       "  </tbody>\n",
       "</table>\n",
       "</div>"
      ],
      "text/plain": [
       "                         Title  Year  \\\n",
       "13680               Wah Do Dem  2010   \n",
       "7274   Mission: Impossible III  2006   \n",
       "6406       Leprechaun: Origins  2014   \n",
       "4087    For Your Consideration  2006   \n",
       "1175                    Aurora  2011   \n",
       "\n",
       "                                                  Review  TMeter  TMeter1  \n",
       "13680  slacker road myth polit packag engagingli chil...    0.72      1.0  \n",
       "7274   excit begin end best franchis ‐ filmsinreview ...    0.70      1.0  \n",
       "6406   isnt bad downright insult lipovski noth seri b...    0.00      0.0  \n",
       "4087   thing disappoint watch one favorit comedian st...    0.51      0.0  \n",
       "1175   puiu talent transform highli disturb portrait ...    0.75      1.0  "
      ]
     },
     "execution_count": 4,
     "metadata": {},
     "output_type": "execute_result"
    }
   ],
   "source": [
    "data1.sample(5)"
   ]
  },
  {
   "cell_type": "code",
   "execution_count": 5,
   "metadata": {},
   "outputs": [],
   "source": [
    "X=data1.Review\n",
    "y=data1.TMeter1"
   ]
  },
  {
   "cell_type": "code",
   "execution_count": 6,
   "metadata": {},
   "outputs": [],
   "source": [
    "X_train, X_test, y_train, y_test=train_test_split(X,y, test_size=3000, random_state=123)"
   ]
  },
  {
   "cell_type": "markdown",
   "metadata": {},
   "source": [
    "__Fitting different models and comparing the scores:__"
   ]
  },
  {
   "cell_type": "code",
   "execution_count": 7,
   "metadata": {},
   "outputs": [
    {
     "name": "stdout",
     "output_type": "stream",
     "text": [
      "GS best params: {'bayes__alpha': 0.3, 'vectorizer__max_features': 4500, 'vectorizer__ngram_range': (1, 1)}\n",
      "GS best accuracy on train set: 0.8259180790960452\n",
      "Accuracy on test set: 0.8033333333333333\n"
     ]
    }
   ],
   "source": [
    "pipe=Pipeline([(\"vectorizer\", TfidfVectorizer()),\n",
    "               (\"bayes\", MultinomialNB())])\n",
    "               \n",
    "param_grid={\"vectorizer__max_features\":[3500,4000,4500],\n",
    "            \"vectorizer__ngram_range\":[(1,1),(1,2)],\n",
    "            \"bayes__alpha\":[0.3,0.5,1]\n",
    "            }\n",
    "gs=GridSearchCV(pipe, param_grid, cv=5,scoring='accuracy', n_jobs=6)\n",
    "gs.fit(X_train, y_train)\n",
    "\n",
    "\n",
    "print(f\"GS best params: {gs.best_params_}\")\n",
    "print(f\"GS best accuracy on train set: {gs.score(X_train,y_train)}\")\n",
    "print(f\"Accuracy on test set: {gs.score(X_test,y_test)}\")\n"
   ]
  },
  {
   "cell_type": "code",
   "execution_count": 8,
   "metadata": {},
   "outputs": [
    {
     "name": "stdout",
     "output_type": "stream",
     "text": [
      "GS best params: {'tree__max_features': 2000, 'tree__min_samples_leaf': 300, 'tree__min_samples_split': 100, 'vectorizer__max_features': 3500, 'vectorizer__ngram_range': (1, 2)}\n",
      "GS best accuracy on train set: 0.7222810734463276\n",
      "Accuracy on test set: 0.71\n"
     ]
    }
   ],
   "source": [
    "pipe=Pipeline([(\"vectorizer\", TfidfVectorizer()),\n",
    "               (\"tree\", DecisionTreeClassifier())])\n",
    "               \n",
    "param_grid={\"vectorizer__max_features\":[3500,4000],\n",
    "            \"vectorizer__ngram_range\":[(1,1),(1,2)],\n",
    "            \"tree__min_samples_split\":[50,100,200],\n",
    "            \"tree__min_samples_leaf\":[300,600,900],\n",
    "            \"tree__max_features\":[500,1000,2000]\n",
    "            }\n",
    "gs=GridSearchCV(pipe, param_grid,scoring='accuracy',cv=5, n_jobs=6)\n",
    "gs.fit(X_train, y_train)\n",
    "\n",
    "\n",
    "print(f\"GS best params: {gs.best_params_}\")\n",
    "print(f\"GS best accuracy on train set: {gs.score(X_train,y_train)}\")\n",
    "print(f\"Accuracy on test set: {gs.score(X_test,y_test)}\")"
   ]
  },
  {
   "cell_type": "code",
   "execution_count": 9,
   "metadata": {},
   "outputs": [
    {
     "name": "stdout",
     "output_type": "stream",
     "text": [
      "GS best params: {'svm__C': 0.5, 'svm__gamma': 0.5, 'svm__kernel': 'rbf'}\n",
      "GS best accuracy on train set: 0.9226694915254238\n",
      "Accuracy on test set: 0.847\n"
     ]
    }
   ],
   "source": [
    "pipe = Pipeline([(\"vectorizer\", TfidfVectorizer()),\n",
    "                 (\"scaler\", Normalizer()),\n",
    "                 ('svm',SVC())])\n",
    "\n",
    "param_grid = [{\"vectorizer__max_features\":[3500,4000]},\n",
    "              {\"vectorizer__ngram_range\":[(1,1),(1,2)]},\n",
    "              {'svm__kernel':['rbf'],\n",
    "               'svm__gamma':[0.5],\n",
    "               'svm__C':[0.5]},\n",
    "\n",
    "              {'svm__kernel':['poly'],\n",
    "               'svm__degree':[1,2],\n",
    "               'svm__C':[0.5]},\n",
    "\n",
    "              {'svm__kernel':['sigmoid'],\n",
    "               'svm__C':[0.5]}]\n",
    "\n",
    "gs = GridSearchCV(pipe, param_grid, scoring='accuracy',cv=5, n_jobs=6)\n",
    "gs.fit(X_train,y_train)\n",
    "\n",
    "    \n",
    "print(f\"GS best params: {gs.best_params_}\")\n",
    "print(f\"GS best accuracy on train set: {gs.score(X_train,y_train)}\")\n",
    "print(f\"Accuracy on test set: {gs.score(X_test,y_test)}\")"
   ]
  },
  {
   "cell_type": "code",
   "execution_count": 7,
   "metadata": {},
   "outputs": [
    {
     "name": "stdout",
     "output_type": "stream",
     "text": [
      "GS best params: {'bagg__n_estimators': 60, 'vectorizer__max_features': 4500, 'vectorizer__ngram_range': (1, 1)}\n",
      "GS best accuracy on train set: 1.0\n",
      "Accuracy on test set: 0.796\n"
     ]
    }
   ],
   "source": [
    "pipe=Pipeline([(\"vectorizer\", TfidfVectorizer()),\n",
    "               (\"bagg\", BaggingClassifier())])\n",
    "               \n",
    "param_grid={\"vectorizer__max_features\":[4000,4500],\n",
    "            \"vectorizer__ngram_range\":[(1,1),(1,2)],\n",
    "            \"bagg__n_estimators\":[40,50,60]\n",
    "            }\n",
    "gs=GridSearchCV(pipe, param_grid,scoring='accuracy', cv=5, n_jobs=6)\n",
    "gs.fit(X_train, y_train)\n",
    "\n",
    "\n",
    "print(f\"GS best params: {gs.best_params_}\")\n",
    "print(f\"GS best accuracy on train set: {gs.score(X_train,y_train)}\")\n",
    "print(f\"Accuracy on test set: {gs.score(X_test,y_test)}\")"
   ]
  },
  {
   "cell_type": "code",
   "execution_count": 7,
   "metadata": {},
   "outputs": [
    {
     "name": "stdout",
     "output_type": "stream",
     "text": [
      "GS best params: {'forest__max_depth': 650, 'forest__n_estimators': 400, 'vectorizer__max_features': 4000, 'vectorizer__ngram_range': (1, 2)}\n",
      "GS best accuracy on train set: 1.0\n",
      "Accuracy on test set: 0.8266666666666667\n"
     ]
    }
   ],
   "source": [
    "pipe=Pipeline([(\"vectorizer\", TfidfVectorizer()),\n",
    "               (\"forest\", RandomForestClassifier())])\n",
    "               \n",
    "param_grid={\"vectorizer__max_features\":[3800,4000,4200],\n",
    "            \"vectorizer__ngram_range\":[(1,1),(1,2)],\n",
    "            \"forest__n_estimators\":[200,300,400],\n",
    "            \"forest__max_depth\":[350,500,650]}\n",
    "\n",
    "gs=GridSearchCV(pipe, param_grid,scoring='accuracy', cv=5, n_jobs=6)\n",
    "gs.fit(X_train,y_train)\n",
    "\n",
    "print(f\"GS best params: {gs.best_params_}\")\n",
    "print(f\"GS best accuracy on train set: {gs.score(X_train,y_train)}\")\n",
    "print(f\"Accuracy on test set: {gs.score(X_test,y_test)}\")"
   ]
  },
  {
   "cell_type": "code",
   "execution_count": 13,
   "metadata": {},
   "outputs": [
    {
     "name": "stdout",
     "output_type": "stream",
     "text": [
      "GS best params: {'sgd__alpha': 0.0001, 'sgd__penalty': 'elasticnet', 'vectorizer__max_features': 4000, 'vectorizer__ngram_range': (1, 2)}\n",
      "GS best accuracy on train set: 0.9221398305084746\n",
      "Accuracy on test set: 0.8616666666666667\n"
     ]
    }
   ],
   "source": [
    "pipe=Pipeline([(\"vectorizer\", TfidfVectorizer()),\n",
    "               (\"scaler\", Normalizer()),\n",
    "               (\"sgd\", SGDClassifier())])\n",
    "               \n",
    "param_grid={\"vectorizer__max_features\":[3500,4000,4500],\n",
    "            \"vectorizer__ngram_range\":[(1,1),(1,2)],\n",
    "            \"sgd__penalty\":[\"l1\",\"l2\",\"elasticnet\"], \n",
    "            \"sgd__alpha\":[0.00001,0.0001,0.001]}\n",
    "gs=GridSearchCV(pipe, param_grid,scoring='accuracy',cv=5, n_jobs=6)\n",
    "gs.fit(X_train, y_train)\n",
    "\n",
    "\n",
    "print(f\"GS best params: {gs.best_params_}\")\n",
    "print(f\"GS best accuracy on train set: {gs.score(X_train,y_train)}\")\n",
    "print(f\"Accuracy on test set: {gs.score(X_test,y_test)}\")"
   ]
  },
  {
   "cell_type": "markdown",
   "metadata": {},
   "source": [
    "__The best results were achieved using LogisticRegression:__"
   ]
  },
  {
   "cell_type": "code",
   "execution_count": 14,
   "metadata": {},
   "outputs": [
    {
     "name": "stdout",
     "output_type": "stream",
     "text": [
      "GS best params: {'logreg__C': 1, 'logreg__penalty': 'l2', 'vectorizer__max_features': 4000, 'vectorizer__ngram_range': (1, 2)}\n",
      "GS best accuracy on train set: 0.9055437853107344\n",
      "Accuracy on test set: 0.862\n"
     ]
    }
   ],
   "source": [
    "pipe=Pipeline([(\"vectorizer\", TfidfVectorizer()),\n",
    "               (\"scaler\", Normalizer()),\n",
    "               (\"logreg\", LogisticRegression())])\n",
    "               \n",
    "param_grid={\"vectorizer__max_features\":[3500,4000,4500],\n",
    "            \"vectorizer__ngram_range\":[(1,1),(1,2)],\n",
    "            \"logreg__penalty\":[\"l1\",\"l2\"], \n",
    "            \"logreg__C\":[0.1,1,10]}\n",
    "gs=GridSearchCV(pipe, param_grid, scoring='accuracy',cv=5, n_jobs=-1)\n",
    "gs.fit(X_train, y_train)\n",
    "\n",
    "\n",
    "print(f\"GS best params: {gs.best_params_}\")\n",
    "print(f\"GS best accuracy on train set: {gs.score(X_train,y_train)}\")\n",
    "print(f\"Accuracy on test set: {gs.score(X_test,y_test)}\")"
   ]
  },
  {
   "cell_type": "code",
   "execution_count": 15,
   "metadata": {},
   "outputs": [
    {
     "data": {
      "text/plain": [
       "0.8657684630738522"
      ]
     },
     "execution_count": 15,
     "metadata": {},
     "output_type": "execute_result"
    }
   ],
   "source": [
    "best_model=gs.best_estimator_\n",
    "precision_score(y_pred=best_model.predict(X_test),y_true=y_test)"
   ]
  },
  {
   "cell_type": "code",
   "execution_count": 16,
   "metadata": {},
   "outputs": [
    {
     "name": "stdout",
     "output_type": "stream",
     "text": [
      "              precision    recall  f1-score   support\n",
      "\n",
      "         0.0       0.85      0.76      0.80      1120\n",
      "         1.0       0.87      0.92      0.89      1880\n",
      "\n",
      "   micro avg       0.86      0.86      0.86      3000\n",
      "   macro avg       0.86      0.84      0.85      3000\n",
      "weighted avg       0.86      0.86      0.86      3000\n",
      "\n"
     ]
    }
   ],
   "source": [
    "print(classification_report(y_pred=best_model.predict(X_test),y_true=y_test))"
   ]
  },
  {
   "cell_type": "code",
   "execution_count": 17,
   "metadata": {},
   "outputs": [],
   "source": [
    "y_pred=best_model.predict(X_test)\n",
    "confmat=confusion_matrix(y_true=y_test,y_pred=y_pred)\n"
   ]
  },
  {
   "cell_type": "code",
   "execution_count": 18,
   "metadata": {},
   "outputs": [
    {
     "data": {
      "image/png": "[encoded data removed]",
      "text/plain": [
       "<Figure size 216x216 with 1 Axes>"
      ]
     },
     "metadata": {
      "needs_background": "light"
     },
     "output_type": "display_data"
    }
   ],
   "source": [
    "fig,ax=plt.subplots(figsize=(3,3))\n",
    "ax.matshow(confmat,cmap=plt.cm.Blues,alpha=0.3)\n",
    "for i in range(confmat.shape[0]):\n",
    "    for j in range(confmat.shape[1]):\n",
    "        ax.text(x=j,y=i,s=confmat[i,j],va='center',ha='center',fontsize=13)\n",
    "plt.xlabel('Predicted label',fontsize=13)\n",
    "plt.ylabel('True label',fontsize=13)\n",
    "plt.show()"
   ]
  },
  {
   "cell_type": "code",
   "execution_count": null,
   "metadata": {},
   "outputs": [],
   "source": []
  }
 ],
 "metadata": {
  "kernelspec": {
   "display_name": "Python 3",
   "language": "python",
   "name": "python3"
  },
  "language_info": {
   "codemirror_mode": {
    "name": "ipython",
    "version": 3
   },
   "file_extension": ".py",
   "mimetype": "text/x-python",
   "name": "python",
   "nbconvert_exporter": "python",
   "pygments_lexer": "ipython3",
   "version": "3.6.6"
  }
 },
 "nbformat": 4,
 "nbformat_minor": 2
}
