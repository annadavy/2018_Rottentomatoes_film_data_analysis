{
 "cells": [
  {
   "cell_type": "code",
   "execution_count": 18,
   "metadata": {},
   "outputs": [],
   "source": [
    "import numpy as np\n",
    "import pandas as pd\n",
    "import matplotlib.pyplot as plt"
   ]
  },
  {
   "cell_type": "markdown",
   "metadata": {},
   "source": [
    "__In order to perform critic's preferences analysis according to film genres we need to match the genres from the file 'movie_lens_movies', because data scrapped from the rottentomatoes webpage does not contain genres:__"
   ]
  },
  {
   "cell_type": "code",
   "execution_count": 19,
   "metadata": {},
   "outputs": [
    {
     "data": {
      "text/html": [
       "<div>\n",
       "<style scoped>\n",
       "    .dataframe tbody tr th:only-of-type {\n",
       "        vertical-align: middle;\n",
       "    }\n",
       "\n",
       "    .dataframe tbody tr th {\n",
       "        vertical-align: top;\n",
       "    }\n",
       "\n",
       "    .dataframe thead th {\n",
       "        text-align: right;\n",
       "    }\n",
       "</style>\n",
       "<table border=\"1\" class=\"dataframe\">\n",
       "  <thead>\n",
       "    <tr style=\"text-align: right;\">\n",
       "      <th></th>\n",
       "      <th>movieId</th>\n",
       "      <th>title</th>\n",
       "      <th>genres</th>\n",
       "    </tr>\n",
       "  </thead>\n",
       "  <tbody>\n",
       "    <tr>\n",
       "      <th>0</th>\n",
       "      <td>1</td>\n",
       "      <td>Toy Story (1995)</td>\n",
       "      <td>Adventure|Animation|Children|Comedy|Fantasy</td>\n",
       "    </tr>\n",
       "    <tr>\n",
       "      <th>1</th>\n",
       "      <td>2</td>\n",
       "      <td>Jumanji (1995)</td>\n",
       "      <td>Adventure|Children|Fantasy</td>\n",
       "    </tr>\n",
       "    <tr>\n",
       "      <th>2</th>\n",
       "      <td>3</td>\n",
       "      <td>Grumpier Old Men (1995)</td>\n",
       "      <td>Comedy|Romance</td>\n",
       "    </tr>\n",
       "    <tr>\n",
       "      <th>3</th>\n",
       "      <td>4</td>\n",
       "      <td>Waiting to Exhale (1995)</td>\n",
       "      <td>Comedy|Drama|Romance</td>\n",
       "    </tr>\n",
       "    <tr>\n",
       "      <th>4</th>\n",
       "      <td>5</td>\n",
       "      <td>Father of the Bride Part II (1995)</td>\n",
       "      <td>Comedy</td>\n",
       "    </tr>\n",
       "  </tbody>\n",
       "</table>\n",
       "</div>"
      ],
      "text/plain": [
       "   movieId                               title  \\\n",
       "0        1                    Toy Story (1995)   \n",
       "1        2                      Jumanji (1995)   \n",
       "2        3             Grumpier Old Men (1995)   \n",
       "3        4            Waiting to Exhale (1995)   \n",
       "4        5  Father of the Bride Part II (1995)   \n",
       "\n",
       "                                        genres  \n",
       "0  Adventure|Animation|Children|Comedy|Fantasy  \n",
       "1                   Adventure|Children|Fantasy  \n",
       "2                               Comedy|Romance  \n",
       "3                         Comedy|Drama|Romance  \n",
       "4                                       Comedy  "
      ]
     },
     "execution_count": 19,
     "metadata": {},
     "output_type": "execute_result"
    }
   ],
   "source": [
    "genres=pd.read_csv('movie_lens_movies.csv')\n",
    "genres=genres.reset_index(drop=True)\n",
    "genres.head()"
   ]
  },
  {
   "cell_type": "code",
   "execution_count": 20,
   "metadata": {},
   "outputs": [
    {
     "data": {
      "text/plain": [
       "(27278, 3)"
      ]
     },
     "execution_count": 20,
     "metadata": {},
     "output_type": "execute_result"
    }
   ],
   "source": [
    "genres.shape"
   ]
  },
  {
   "cell_type": "code",
   "execution_count": 21,
   "metadata": {},
   "outputs": [
    {
     "data": {
      "text/html": [
       "<div>\n",
       "<style scoped>\n",
       "    .dataframe tbody tr th:only-of-type {\n",
       "        vertical-align: middle;\n",
       "    }\n",
       "\n",
       "    .dataframe tbody tr th {\n",
       "        vertical-align: top;\n",
       "    }\n",
       "\n",
       "    .dataframe thead th {\n",
       "        text-align: right;\n",
       "    }\n",
       "</style>\n",
       "<table border=\"1\" class=\"dataframe\">\n",
       "  <thead>\n",
       "    <tr style=\"text-align: right;\">\n",
       "      <th></th>\n",
       "      <th>movieId</th>\n",
       "      <th>title</th>\n",
       "      <th>genres</th>\n",
       "    </tr>\n",
       "  </thead>\n",
       "  <tbody>\n",
       "    <tr>\n",
       "      <th>0</th>\n",
       "      <td>1</td>\n",
       "      <td>Toy Story</td>\n",
       "      <td>Adventure|Animation|Children|Comedy|Fantasy</td>\n",
       "    </tr>\n",
       "    <tr>\n",
       "      <th>1</th>\n",
       "      <td>2</td>\n",
       "      <td>Jumanji</td>\n",
       "      <td>Adventure|Children|Fantasy</td>\n",
       "    </tr>\n",
       "    <tr>\n",
       "      <th>2</th>\n",
       "      <td>3</td>\n",
       "      <td>Grumpier Old Men</td>\n",
       "      <td>Comedy|Romance</td>\n",
       "    </tr>\n",
       "    <tr>\n",
       "      <th>3</th>\n",
       "      <td>4</td>\n",
       "      <td>Waiting to Exhale</td>\n",
       "      <td>Comedy|Drama|Romance</td>\n",
       "    </tr>\n",
       "    <tr>\n",
       "      <th>4</th>\n",
       "      <td>5</td>\n",
       "      <td>Father of the Bride Part II</td>\n",
       "      <td>Comedy</td>\n",
       "    </tr>\n",
       "  </tbody>\n",
       "</table>\n",
       "</div>"
      ],
      "text/plain": [
       "   movieId                        title  \\\n",
       "0        1                    Toy Story   \n",
       "1        2                      Jumanji   \n",
       "2        3             Grumpier Old Men   \n",
       "3        4            Waiting to Exhale   \n",
       "4        5  Father of the Bride Part II   \n",
       "\n",
       "                                        genres  \n",
       "0  Adventure|Animation|Children|Comedy|Fantasy  \n",
       "1                   Adventure|Children|Fantasy  \n",
       "2                               Comedy|Romance  \n",
       "3                         Comedy|Drama|Romance  \n",
       "4                                       Comedy  "
      ]
     },
     "execution_count": 21,
     "metadata": {},
     "output_type": "execute_result"
    }
   ],
   "source": [
    "genres['title']=genres.title.str[:-7]\n",
    "genres.head()"
   ]
  },
  {
   "cell_type": "code",
   "execution_count": 22,
   "metadata": {},
   "outputs": [
    {
     "data": {
      "text/html": [
       "<div>\n",
       "<style scoped>\n",
       "    .dataframe tbody tr th:only-of-type {\n",
       "        vertical-align: middle;\n",
       "    }\n",
       "\n",
       "    .dataframe tbody tr th {\n",
       "        vertical-align: top;\n",
       "    }\n",
       "\n",
       "    .dataframe thead th {\n",
       "        text-align: right;\n",
       "    }\n",
       "</style>\n",
       "<table border=\"1\" class=\"dataframe\">\n",
       "  <thead>\n",
       "    <tr style=\"text-align: right;\">\n",
       "      <th></th>\n",
       "      <th>ID</th>\n",
       "      <th>Title</th>\n",
       "      <th>Genres</th>\n",
       "    </tr>\n",
       "  </thead>\n",
       "  <tbody>\n",
       "    <tr>\n",
       "      <th>0</th>\n",
       "      <td>1</td>\n",
       "      <td>Toy Story</td>\n",
       "      <td>Adventure|Animation|Children|Comedy|Fantasy</td>\n",
       "    </tr>\n",
       "    <tr>\n",
       "      <th>1</th>\n",
       "      <td>2</td>\n",
       "      <td>Jumanji</td>\n",
       "      <td>Adventure|Children|Fantasy</td>\n",
       "    </tr>\n",
       "    <tr>\n",
       "      <th>2</th>\n",
       "      <td>3</td>\n",
       "      <td>Grumpier Old Men</td>\n",
       "      <td>Comedy|Romance</td>\n",
       "    </tr>\n",
       "    <tr>\n",
       "      <th>3</th>\n",
       "      <td>4</td>\n",
       "      <td>Waiting to Exhale</td>\n",
       "      <td>Comedy|Drama|Romance</td>\n",
       "    </tr>\n",
       "    <tr>\n",
       "      <th>4</th>\n",
       "      <td>5</td>\n",
       "      <td>Father of the Bride Part II</td>\n",
       "      <td>Comedy</td>\n",
       "    </tr>\n",
       "  </tbody>\n",
       "</table>\n",
       "</div>"
      ],
      "text/plain": [
       "   ID                        Title  \\\n",
       "0   1                    Toy Story   \n",
       "1   2                      Jumanji   \n",
       "2   3             Grumpier Old Men   \n",
       "3   4            Waiting to Exhale   \n",
       "4   5  Father of the Bride Part II   \n",
       "\n",
       "                                        Genres  \n",
       "0  Adventure|Animation|Children|Comedy|Fantasy  \n",
       "1                   Adventure|Children|Fantasy  \n",
       "2                               Comedy|Romance  \n",
       "3                         Comedy|Drama|Romance  \n",
       "4                                       Comedy  "
      ]
     },
     "execution_count": 22,
     "metadata": {},
     "output_type": "execute_result"
    }
   ],
   "source": [
    "genres.columns=['ID','Title','Genres']\n",
    "genres.head()"
   ]
  },
  {
   "cell_type": "code",
   "execution_count": 23,
   "metadata": {},
   "outputs": [
    {
     "data": {
      "text/plain": [
       "(670325, 5)"
      ]
     },
     "execution_count": 23,
     "metadata": {},
     "output_type": "execute_result"
    }
   ],
   "source": [
    "all_critic_opinions=pd.read_csv('all_critic_opinions_file.csv')\n",
    "all_critic_opinions=all_critic_opinions.drop('Unnamed: 0',axis=1)\n",
    "all_critic_opinions=all_critic_opinions.reset_index(drop=True)\n",
    "all_critic_opinions.shape"
   ]
  },
  {
   "cell_type": "code",
   "execution_count": 24,
   "metadata": {},
   "outputs": [
    {
     "data": {
      "text/html": [
       "<div>\n",
       "<style scoped>\n",
       "    .dataframe tbody tr th:only-of-type {\n",
       "        vertical-align: middle;\n",
       "    }\n",
       "\n",
       "    .dataframe tbody tr th {\n",
       "        vertical-align: top;\n",
       "    }\n",
       "\n",
       "    .dataframe thead th {\n",
       "        text-align: right;\n",
       "    }\n",
       "</style>\n",
       "<table border=\"1\" class=\"dataframe\">\n",
       "  <thead>\n",
       "    <tr style=\"text-align: right;\">\n",
       "      <th></th>\n",
       "      <th>CRating</th>\n",
       "      <th>TMeter</th>\n",
       "      <th>Title</th>\n",
       "      <th>Review</th>\n",
       "      <th>Critic</th>\n",
       "    </tr>\n",
       "  </thead>\n",
       "  <tbody>\n",
       "    <tr>\n",
       "      <th>0</th>\n",
       "      <td>3/5</td>\n",
       "      <td>87%</td>\n",
       "      <td>Ant-Man and the Wasp (2018)</td>\n",
       "      <td>Ant-Man and the Wasp is an airy, nimble piece ...</td>\n",
       "      <td>alex-abad-santos</td>\n",
       "    </tr>\n",
       "    <tr>\n",
       "      <th>1</th>\n",
       "      <td>3.5/5</td>\n",
       "      <td>67%</td>\n",
       "      <td>Ocean's 8 (2018)</td>\n",
       "      <td>Ocean's 8, at its most endearing, is a slick, ...</td>\n",
       "      <td>alex-abad-santos</td>\n",
       "    </tr>\n",
       "    <tr>\n",
       "      <th>2</th>\n",
       "      <td>4.5/5</td>\n",
       "      <td>83%</td>\n",
       "      <td>Deadpool 2 (2018)</td>\n",
       "      <td>A delirious exhibition for the bawdy, acerbic ...</td>\n",
       "      <td>alex-abad-santos</td>\n",
       "    </tr>\n",
       "    <tr>\n",
       "      <th>3</th>\n",
       "      <td>NaN</td>\n",
       "      <td>83%</td>\n",
       "      <td>Avengers: Infinity War (2018)</td>\n",
       "      <td>For the first time in a while, I can't wait to...</td>\n",
       "      <td>alex-abad-santos</td>\n",
       "    </tr>\n",
       "    <tr>\n",
       "      <th>4</th>\n",
       "      <td>4.5/5</td>\n",
       "      <td>97%</td>\n",
       "      <td>Black Panther (2018)</td>\n",
       "      <td>Coogler and his talented cast and team tell a ...</td>\n",
       "      <td>alex-abad-santos</td>\n",
       "    </tr>\n",
       "  </tbody>\n",
       "</table>\n",
       "</div>"
      ],
      "text/plain": [
       "  CRating TMeter                          Title  \\\n",
       "0     3/5    87%    Ant-Man and the Wasp (2018)   \n",
       "1   3.5/5    67%               Ocean's 8 (2018)   \n",
       "2   4.5/5    83%              Deadpool 2 (2018)   \n",
       "3     NaN    83%  Avengers: Infinity War (2018)   \n",
       "4   4.5/5    97%           Black Panther (2018)   \n",
       "\n",
       "                                              Review            Critic  \n",
       "0  Ant-Man and the Wasp is an airy, nimble piece ...  alex-abad-santos  \n",
       "1  Ocean's 8, at its most endearing, is a slick, ...  alex-abad-santos  \n",
       "2  A delirious exhibition for the bawdy, acerbic ...  alex-abad-santos  \n",
       "3  For the first time in a while, I can't wait to...  alex-abad-santos  \n",
       "4  Coogler and his talented cast and team tell a ...  alex-abad-santos  "
      ]
     },
     "execution_count": 24,
     "metadata": {},
     "output_type": "execute_result"
    }
   ],
   "source": [
    "all_critic_opinions.head()"
   ]
  },
  {
   "cell_type": "code",
   "execution_count": 25,
   "metadata": {},
   "outputs": [],
   "source": [
    "all_critic_opinions=all_critic_opinions.drop(all_critic_opinions[all_critic_opinions['Review']=='Review'].index)\n",
    "all_critic_opinions=all_critic_opinions.drop(all_critic_opinions[all_critic_opinions['TMeter']=='No Score Yet'].index)"
   ]
  },
  {
   "cell_type": "code",
   "execution_count": 26,
   "metadata": {},
   "outputs": [],
   "source": [
    "all_critic_opinions['Year']=all_critic_opinions.Title.str[-5:-1]"
   ]
  },
  {
   "cell_type": "code",
   "execution_count": 27,
   "metadata": {},
   "outputs": [
    {
     "data": {
      "text/html": [
       "<div>\n",
       "<style scoped>\n",
       "    .dataframe tbody tr th:only-of-type {\n",
       "        vertical-align: middle;\n",
       "    }\n",
       "\n",
       "    .dataframe tbody tr th {\n",
       "        vertical-align: top;\n",
       "    }\n",
       "\n",
       "    .dataframe thead th {\n",
       "        text-align: right;\n",
       "    }\n",
       "</style>\n",
       "<table border=\"1\" class=\"dataframe\">\n",
       "  <thead>\n",
       "    <tr style=\"text-align: right;\">\n",
       "      <th></th>\n",
       "      <th>CRating</th>\n",
       "      <th>TMeter</th>\n",
       "      <th>Title</th>\n",
       "      <th>Review</th>\n",
       "      <th>Critic</th>\n",
       "      <th>Year</th>\n",
       "    </tr>\n",
       "  </thead>\n",
       "  <tbody>\n",
       "    <tr>\n",
       "      <th>0</th>\n",
       "      <td>3/5</td>\n",
       "      <td>0.87</td>\n",
       "      <td>Ant-Man and the Wasp</td>\n",
       "      <td>Ant-Man and the Wasp is an airy, nimble piece ...</td>\n",
       "      <td>alex-abad-santos</td>\n",
       "      <td>2018</td>\n",
       "    </tr>\n",
       "    <tr>\n",
       "      <th>1</th>\n",
       "      <td>3.5/5</td>\n",
       "      <td>0.67</td>\n",
       "      <td>Ocean's 8</td>\n",
       "      <td>Ocean's 8, at its most endearing, is a slick, ...</td>\n",
       "      <td>alex-abad-santos</td>\n",
       "      <td>2018</td>\n",
       "    </tr>\n",
       "    <tr>\n",
       "      <th>2</th>\n",
       "      <td>4.5/5</td>\n",
       "      <td>0.83</td>\n",
       "      <td>Deadpool 2</td>\n",
       "      <td>A delirious exhibition for the bawdy, acerbic ...</td>\n",
       "      <td>alex-abad-santos</td>\n",
       "      <td>2018</td>\n",
       "    </tr>\n",
       "    <tr>\n",
       "      <th>3</th>\n",
       "      <td>NaN</td>\n",
       "      <td>0.83</td>\n",
       "      <td>Avengers: Infinity War</td>\n",
       "      <td>For the first time in a while, I can't wait to...</td>\n",
       "      <td>alex-abad-santos</td>\n",
       "      <td>2018</td>\n",
       "    </tr>\n",
       "    <tr>\n",
       "      <th>4</th>\n",
       "      <td>4.5/5</td>\n",
       "      <td>0.97</td>\n",
       "      <td>Black Panther</td>\n",
       "      <td>Coogler and his talented cast and team tell a ...</td>\n",
       "      <td>alex-abad-santos</td>\n",
       "      <td>2018</td>\n",
       "    </tr>\n",
       "  </tbody>\n",
       "</table>\n",
       "</div>"
      ],
      "text/plain": [
       "  CRating  TMeter                   Title  \\\n",
       "0     3/5    0.87    Ant-Man and the Wasp   \n",
       "1   3.5/5    0.67               Ocean's 8   \n",
       "2   4.5/5    0.83              Deadpool 2   \n",
       "3     NaN    0.83  Avengers: Infinity War   \n",
       "4   4.5/5    0.97           Black Panther   \n",
       "\n",
       "                                              Review            Critic  Year  \n",
       "0  Ant-Man and the Wasp is an airy, nimble piece ...  alex-abad-santos  2018  \n",
       "1  Ocean's 8, at its most endearing, is a slick, ...  alex-abad-santos  2018  \n",
       "2  A delirious exhibition for the bawdy, acerbic ...  alex-abad-santos  2018  \n",
       "3  For the first time in a while, I can't wait to...  alex-abad-santos  2018  \n",
       "4  Coogler and his talented cast and team tell a ...  alex-abad-santos  2018  "
      ]
     },
     "execution_count": 27,
     "metadata": {},
     "output_type": "execute_result"
    }
   ],
   "source": [
    "all_critic_opinions['TMeter']=all_critic_opinions.TMeter.str[:-1]\n",
    "all_critic_opinions['Title']=all_critic_opinions.Title.str[:-7]\n",
    "\n",
    "all_critic_opinions['TMeter']=pd.to_numeric(all_critic_opinions['TMeter'])/100\n",
    "all_critic_opinions.head()"
   ]
  },
  {
   "cell_type": "code",
   "execution_count": 28,
   "metadata": {},
   "outputs": [],
   "source": [
    "all_critic_opinions=all_critic_opinions.drop('Review',axis=1)"
   ]
  },
  {
   "cell_type": "code",
   "execution_count": 29,
   "metadata": {},
   "outputs": [
    {
     "data": {
      "text/html": [
       "<div>\n",
       "<style scoped>\n",
       "    .dataframe tbody tr th:only-of-type {\n",
       "        vertical-align: middle;\n",
       "    }\n",
       "\n",
       "    .dataframe tbody tr th {\n",
       "        vertical-align: top;\n",
       "    }\n",
       "\n",
       "    .dataframe thead th {\n",
       "        text-align: right;\n",
       "    }\n",
       "</style>\n",
       "<table border=\"1\" class=\"dataframe\">\n",
       "  <thead>\n",
       "    <tr style=\"text-align: right;\">\n",
       "      <th></th>\n",
       "      <th>CRating</th>\n",
       "      <th>TMeter</th>\n",
       "      <th>Title</th>\n",
       "      <th>Critic</th>\n",
       "      <th>Year</th>\n",
       "    </tr>\n",
       "  </thead>\n",
       "  <tbody>\n",
       "    <tr>\n",
       "      <th>0</th>\n",
       "      <td>3/5</td>\n",
       "      <td>0.87</td>\n",
       "      <td>Ant-Man and the Wasp</td>\n",
       "      <td>alex-abad-santos</td>\n",
       "      <td>2018</td>\n",
       "    </tr>\n",
       "    <tr>\n",
       "      <th>1</th>\n",
       "      <td>3.5/5</td>\n",
       "      <td>0.67</td>\n",
       "      <td>Ocean's 8</td>\n",
       "      <td>alex-abad-santos</td>\n",
       "      <td>2018</td>\n",
       "    </tr>\n",
       "    <tr>\n",
       "      <th>2</th>\n",
       "      <td>4.5/5</td>\n",
       "      <td>0.83</td>\n",
       "      <td>Deadpool 2</td>\n",
       "      <td>alex-abad-santos</td>\n",
       "      <td>2018</td>\n",
       "    </tr>\n",
       "    <tr>\n",
       "      <th>3</th>\n",
       "      <td>NaN</td>\n",
       "      <td>0.83</td>\n",
       "      <td>Avengers: Infinity War</td>\n",
       "      <td>alex-abad-santos</td>\n",
       "      <td>2018</td>\n",
       "    </tr>\n",
       "    <tr>\n",
       "      <th>4</th>\n",
       "      <td>4.5/5</td>\n",
       "      <td>0.97</td>\n",
       "      <td>Black Panther</td>\n",
       "      <td>alex-abad-santos</td>\n",
       "      <td>2018</td>\n",
       "    </tr>\n",
       "  </tbody>\n",
       "</table>\n",
       "</div>"
      ],
      "text/plain": [
       "  CRating  TMeter                   Title            Critic  Year\n",
       "0     3/5    0.87    Ant-Man and the Wasp  alex-abad-santos  2018\n",
       "1   3.5/5    0.67               Ocean's 8  alex-abad-santos  2018\n",
       "2   4.5/5    0.83              Deadpool 2  alex-abad-santos  2018\n",
       "3     NaN    0.83  Avengers: Infinity War  alex-abad-santos  2018\n",
       "4   4.5/5    0.97           Black Panther  alex-abad-santos  2018"
      ]
     },
     "execution_count": 29,
     "metadata": {},
     "output_type": "execute_result"
    }
   ],
   "source": [
    "all_critic_opinions.head()"
   ]
  },
  {
   "cell_type": "code",
   "execution_count": 30,
   "metadata": {},
   "outputs": [
    {
     "data": {
      "text/plain": [
       "(532012, 5)"
      ]
     },
     "execution_count": 30,
     "metadata": {},
     "output_type": "execute_result"
    }
   ],
   "source": [
    "all_critic_opinions.shape"
   ]
  },
  {
   "cell_type": "code",
   "execution_count": 31,
   "metadata": {},
   "outputs": [
    {
     "data": {
      "text/plain": [
       "21981"
      ]
     },
     "execution_count": 31,
     "metadata": {},
     "output_type": "execute_result"
    }
   ],
   "source": [
    "len(all_critic_opinions['Title'].unique())"
   ]
  },
  {
   "cell_type": "markdown",
   "metadata": {},
   "source": [
    "__Merging the two files on Title:__"
   ]
  },
  {
   "cell_type": "code",
   "execution_count": 32,
   "metadata": {},
   "outputs": [
    {
     "data": {
      "text/html": [
       "<div>\n",
       "<style scoped>\n",
       "    .dataframe tbody tr th:only-of-type {\n",
       "        vertical-align: middle;\n",
       "    }\n",
       "\n",
       "    .dataframe tbody tr th {\n",
       "        vertical-align: top;\n",
       "    }\n",
       "\n",
       "    .dataframe thead th {\n",
       "        text-align: right;\n",
       "    }\n",
       "</style>\n",
       "<table border=\"1\" class=\"dataframe\">\n",
       "  <thead>\n",
       "    <tr style=\"text-align: right;\">\n",
       "      <th></th>\n",
       "      <th>CRating</th>\n",
       "      <th>TMeter</th>\n",
       "      <th>Title</th>\n",
       "      <th>Critic</th>\n",
       "      <th>Year</th>\n",
       "      <th>ID</th>\n",
       "      <th>Genres</th>\n",
       "    </tr>\n",
       "  </thead>\n",
       "  <tbody>\n",
       "    <tr>\n",
       "      <th>0</th>\n",
       "      <td>3.5/5</td>\n",
       "      <td>0.92</td>\n",
       "      <td>Wonder Woman</td>\n",
       "      <td>alex-abad-santos</td>\n",
       "      <td>2017</td>\n",
       "      <td>108795</td>\n",
       "      <td>Action|Adventure|Animation|Fantasy</td>\n",
       "    </tr>\n",
       "    <tr>\n",
       "      <th>1</th>\n",
       "      <td>NaN</td>\n",
       "      <td>0.92</td>\n",
       "      <td>Wonder Woman</td>\n",
       "      <td>beth-accomando</td>\n",
       "      <td>2017</td>\n",
       "      <td>108795</td>\n",
       "      <td>Action|Adventure|Animation|Fantasy</td>\n",
       "    </tr>\n",
       "    <tr>\n",
       "      <th>2</th>\n",
       "      <td>3/4</td>\n",
       "      <td>0.92</td>\n",
       "      <td>Wonder Woman</td>\n",
       "      <td>thelma-adams</td>\n",
       "      <td>2017</td>\n",
       "      <td>108795</td>\n",
       "      <td>Action|Adventure|Animation|Fantasy</td>\n",
       "    </tr>\n",
       "    <tr>\n",
       "      <th>3</th>\n",
       "      <td>4/5</td>\n",
       "      <td>0.92</td>\n",
       "      <td>Wonder Woman</td>\n",
       "      <td>sergio-lopez-aguirre</td>\n",
       "      <td>2017</td>\n",
       "      <td>108795</td>\n",
       "      <td>Action|Adventure|Animation|Fantasy</td>\n",
       "    </tr>\n",
       "    <tr>\n",
       "      <th>4</th>\n",
       "      <td>NaN</td>\n",
       "      <td>0.92</td>\n",
       "      <td>Wonder Woman</td>\n",
       "      <td>victoria-alexander</td>\n",
       "      <td>2017</td>\n",
       "      <td>108795</td>\n",
       "      <td>Action|Adventure|Animation|Fantasy</td>\n",
       "    </tr>\n",
       "  </tbody>\n",
       "</table>\n",
       "</div>"
      ],
      "text/plain": [
       "  CRating  TMeter         Title                Critic  Year      ID  \\\n",
       "0   3.5/5    0.92  Wonder Woman      alex-abad-santos  2017  108795   \n",
       "1     NaN    0.92  Wonder Woman        beth-accomando  2017  108795   \n",
       "2     3/4    0.92  Wonder Woman          thelma-adams  2017  108795   \n",
       "3     4/5    0.92  Wonder Woman  sergio-lopez-aguirre  2017  108795   \n",
       "4     NaN    0.92  Wonder Woman    victoria-alexander  2017  108795   \n",
       "\n",
       "                               Genres  \n",
       "0  Action|Adventure|Animation|Fantasy  \n",
       "1  Action|Adventure|Animation|Fantasy  \n",
       "2  Action|Adventure|Animation|Fantasy  \n",
       "3  Action|Adventure|Animation|Fantasy  \n",
       "4  Action|Adventure|Animation|Fantasy  "
      ]
     },
     "execution_count": 32,
     "metadata": {},
     "output_type": "execute_result"
    }
   ],
   "source": [
    "all_critic_opinions1=pd.merge(all_critic_opinions,genres,on='Title')\n",
    "all_critic_opinions1.head()"
   ]
  },
  {
   "cell_type": "code",
   "execution_count": 33,
   "metadata": {},
   "outputs": [
    {
     "data": {
      "text/plain": [
       "(271354, 7)"
      ]
     },
     "execution_count": 33,
     "metadata": {},
     "output_type": "execute_result"
    }
   ],
   "source": [
    "all_critic_opinions1.shape"
   ]
  },
  {
   "cell_type": "code",
   "execution_count": 34,
   "metadata": {},
   "outputs": [
    {
     "data": {
      "text/plain": [
       "8681"
      ]
     },
     "execution_count": 34,
     "metadata": {},
     "output_type": "execute_result"
    }
   ],
   "source": [
    "len(all_critic_opinions1['Title'].unique())"
   ]
  },
  {
   "cell_type": "code",
   "execution_count": 35,
   "metadata": {},
   "outputs": [
    {
     "data": {
      "text/plain": [
       "1822"
      ]
     },
     "execution_count": 35,
     "metadata": {},
     "output_type": "execute_result"
    }
   ],
   "source": [
    "len(all_critic_opinions1['Critic'].unique())"
   ]
  },
  {
   "cell_type": "code",
   "execution_count": 36,
   "metadata": {},
   "outputs": [
    {
     "data": {
      "text/plain": [
       "833"
      ]
     },
     "execution_count": 36,
     "metadata": {},
     "output_type": "execute_result"
    }
   ],
   "source": [
    "len(all_critic_opinions1['Genres'].unique())"
   ]
  },
  {
   "cell_type": "markdown",
   "metadata": {},
   "source": [
    "__The new file contains 833 film genres which have to be grouped to a much lower number of genres:__"
   ]
  },
  {
   "cell_type": "code",
   "execution_count": 57,
   "metadata": {},
   "outputs": [
    {
     "data": {
      "text/plain": [
       "Drama                               37028\n",
       "Comedy                              17110\n",
       "Documentary                         14117\n",
       "Comedy|Drama                        14077\n",
       "Drama|Romance                       10660\n",
       "Comedy|Drama|Romance                 9017\n",
       "Comedy|Romance                       8751\n",
       "Drama|Thriller                       6513\n",
       "Crime|Drama|Thriller                 5126\n",
       "Crime|Drama                          4328\n",
       "Horror|Thriller                      4199\n",
       "Horror                               3140\n",
       "Action|Adventure|Sci-Fi              2340\n",
       "Action|Adventure|Sci-Fi|IMAX         2320\n",
       "Drama|War                            2302\n",
       "Drama|Mystery|Thriller               2275\n",
       "Action|Crime|Drama|Thriller          2139\n",
       "Thriller                             2132\n",
       "Action|Thriller                      2070\n",
       "Action|Comedy                        1943\n",
       "Action|Comedy|Crime                  1841\n",
       "Comedy|Crime                         1755\n",
       "Action|Crime|Thriller                1619\n",
       "Comedy|Crime|Drama                   1572\n",
       "Action|Sci-Fi|Thriller               1511\n",
       "Drama|Horror|Thriller                1448\n",
       "Action|Drama|Thriller                1406\n",
       "Crime|Thriller                       1393\n",
       "Action|Drama|War                     1270\n",
       "Action|Drama                         1241\n",
       "Crime|Drama|Mystery|Thriller         1210\n",
       "Comedy|Horror                        1206\n",
       "Action|Crime|Drama                   1199\n",
       "Action|Adventure|Drama               1195\n",
       "Action|Adventure|Sci-Fi|Thriller     1191\n",
       "Horror|Sci-Fi|Thriller               1172\n",
       "Drama|Musical                        1168\n",
       "Children|Comedy                      1138\n",
       "Western                              1054\n",
       "Comedy|Fantasy|Romance                983\n",
       "Drama|Mystery                         957\n",
       "Horror|Mystery|Thriller               889\n",
       "Adventure|Drama                       840\n",
       "Drama|Sci-Fi                          818\n",
       "Action|Sci-Fi|Thriller|IMAX           817\n",
       "Drama|Fantasy|Romance                 805\n",
       "Drama|Musical|Romance                 778\n",
       "Mystery|Thriller                      774\n",
       "Crime|Drama|Mystery                   767\n",
       "Action|Crime                          746\n",
       "Name: Genres, dtype: int64"
      ]
     },
     "execution_count": 57,
     "metadata": {},
     "output_type": "execute_result"
    }
   ],
   "source": [
    "all_critic_opinions1['Genres'].value_counts()[:50]"
   ]
  },
  {
   "cell_type": "markdown",
   "metadata": {},
   "source": [
    "__Another problem is the fact that the critics on rottentomatoes webpage probably fill in their scores for each film manually what results in a big number of score types (approx. 400 types,string format, many typing errors):__"
   ]
  },
  {
   "cell_type": "code",
   "execution_count": 60,
   "metadata": {},
   "outputs": [
    {
     "data": {
      "text/plain": [
       "array([\"'2.25/5'\", \"'2.5/5'\", \"'2.75/5'\", \"'2/5'\", \"'3.5/5'\", \"'3.75/5'\",\n",
       "       \"'3/5'\", '**', '***', '****', '****1/2', '***1/2', '+',\n",
       "       '+0 out of -4..+4', '+1 out of -4..+4', '+2 out of -4..+4',\n",
       "       '+3 out of -4..+4', '+4 out of -4..+4', '-', '-1 out of -4..+4',\n",
       "       '-1/10', '-2 out of -4..+4', '.1/5', '.2/5', '.25/4', '.5',\n",
       "       '.5/ 5', '.5/10', '.5/4', '.5/5', '.65/10', '.7221/10', '.75/10',\n",
       "       '.82/10', '.96/10', '0', '0 out of -4..+4', '0 out of 4..+4',\n",
       "       '0 stars', '0.0/4', '0.0/4.0', '0.0/5', '0.13/1', '0.5', '0.5/10',\n",
       "       '0.5/4', '0.5/4.0', '0.5/5', '0.5/5.0', '0.5/5.5', '0.52/1',\n",
       "       '0.58/1', '0.59/1', '0.81/1', '0.85/10', '0/0', '0/10', '0/4',\n",
       "       '0/4.0', '0/5', '0/6', '1', '1.0', '1.0/4', '1.0/4.0', '1.0/5',\n",
       "       '1.0/5.0', '1.1/2', '1.2/10', '1.25/5', '1.4', '1.4/4', '1.4/4.0',\n",
       "       '1.5', '1.5.4', '1.5.5', '1.5/.5', '1.5/10', '1.5/2', '1.5/3',\n",
       "       '1.5/4', '1.5/4.0', '1.5/5', '1.5/5.0', '1.7/5', '1.75/4',\n",
       "       '1.75/5', '1.8/5', '1.82/10', '1.88/10', '1.9/5', '1/10', '1/2',\n",
       "       '1/4', '1/4ANNAPOL', '1/5', '1/54', '1/6', '1/7', '10', '10 of 10',\n",
       "       '10 out of 10', '10/10', '10/100', '10/20', '10/7', '100/100',\n",
       "       '11/20', '12/100', '12/20', '14.50/20', '15/100', '15/20', '16/20',\n",
       "       '17/20', '18/20', '19/100', '19/20', '2', '2 1/2', '2 1/2 stars',\n",
       "       '2 out of 10', '2 out of 5', '2 stars', '2 stars out of 5', '2./4',\n",
       "       '2.0', '2.0/10', '2.0/3.0', '2.0/4', '2.0/4.0', '2.0/5', '2.0/5.0',\n",
       "       '2.00', '2.1/10', '2.1/2', '2.2/10', '2.2/5', '2.212521/10',\n",
       "       '2.25/4', '2.25/5', '2.3/10', '2.3/4', '2.3/5', '2.4', '2.4/10',\n",
       "       '2.4/4', '2.4/5', '2.5', '2.5 out of 10'], dtype='<U50')"
      ]
     },
     "execution_count": 60,
     "metadata": {},
     "output_type": "execute_result"
    }
   ],
   "source": [
    "list_ratings=all_critic_opinions1['CRating'].tolist()\n",
    "np.unique(list_ratings)[:150]"
   ]
  },
  {
   "cell_type": "markdown",
   "metadata": {},
   "source": [
    "__File contains many null values for critic's scores (CRating column) that have to be dropped:__"
   ]
  },
  {
   "cell_type": "code",
   "execution_count": 64,
   "metadata": {},
   "outputs": [],
   "source": [
    "all_critic_opinions1=all_critic_opinions1.dropna()"
   ]
  },
  {
   "cell_type": "code",
   "execution_count": 65,
   "metadata": {},
   "outputs": [
    {
     "data": {
      "text/html": [
       "<div>\n",
       "<style scoped>\n",
       "    .dataframe tbody tr th:only-of-type {\n",
       "        vertical-align: middle;\n",
       "    }\n",
       "\n",
       "    .dataframe tbody tr th {\n",
       "        vertical-align: top;\n",
       "    }\n",
       "\n",
       "    .dataframe thead th {\n",
       "        text-align: right;\n",
       "    }\n",
       "</style>\n",
       "<table border=\"1\" class=\"dataframe\">\n",
       "  <thead>\n",
       "    <tr style=\"text-align: right;\">\n",
       "      <th></th>\n",
       "      <th>CRating</th>\n",
       "      <th>TMeter</th>\n",
       "      <th>Title</th>\n",
       "      <th>Critic</th>\n",
       "      <th>Year</th>\n",
       "      <th>ID</th>\n",
       "      <th>Genres</th>\n",
       "    </tr>\n",
       "  </thead>\n",
       "  <tbody>\n",
       "    <tr>\n",
       "      <th>0</th>\n",
       "      <td>3.5/5</td>\n",
       "      <td>0.92</td>\n",
       "      <td>Wonder Woman</td>\n",
       "      <td>alex-abad-santos</td>\n",
       "      <td>2017</td>\n",
       "      <td>108795</td>\n",
       "      <td>Action|Adventure|Animation|Fantasy</td>\n",
       "    </tr>\n",
       "    <tr>\n",
       "      <th>2</th>\n",
       "      <td>3/4</td>\n",
       "      <td>0.92</td>\n",
       "      <td>Wonder Woman</td>\n",
       "      <td>thelma-adams</td>\n",
       "      <td>2017</td>\n",
       "      <td>108795</td>\n",
       "      <td>Action|Adventure|Animation|Fantasy</td>\n",
       "    </tr>\n",
       "    <tr>\n",
       "      <th>3</th>\n",
       "      <td>4/5</td>\n",
       "      <td>0.92</td>\n",
       "      <td>Wonder Woman</td>\n",
       "      <td>sergio-lopez-aguirre</td>\n",
       "      <td>2017</td>\n",
       "      <td>108795</td>\n",
       "      <td>Action|Adventure|Animation|Fantasy</td>\n",
       "    </tr>\n",
       "    <tr>\n",
       "      <th>5</th>\n",
       "      <td>3.5/4</td>\n",
       "      <td>0.92</td>\n",
       "      <td>Wonder Woman</td>\n",
       "      <td>jeffrey-m-anderson</td>\n",
       "      <td>2017</td>\n",
       "      <td>108795</td>\n",
       "      <td>Action|Adventure|Animation|Fantasy</td>\n",
       "    </tr>\n",
       "    <tr>\n",
       "      <th>7</th>\n",
       "      <td>3/5</td>\n",
       "      <td>0.92</td>\n",
       "      <td>Wonder Woman</td>\n",
       "      <td>nigel-andrews</td>\n",
       "      <td>2017</td>\n",
       "      <td>108795</td>\n",
       "      <td>Action|Adventure|Animation|Fantasy</td>\n",
       "    </tr>\n",
       "  </tbody>\n",
       "</table>\n",
       "</div>"
      ],
      "text/plain": [
       "  CRating  TMeter         Title                Critic  Year      ID  \\\n",
       "0   3.5/5    0.92  Wonder Woman      alex-abad-santos  2017  108795   \n",
       "2     3/4    0.92  Wonder Woman          thelma-adams  2017  108795   \n",
       "3     4/5    0.92  Wonder Woman  sergio-lopez-aguirre  2017  108795   \n",
       "5   3.5/4    0.92  Wonder Woman    jeffrey-m-anderson  2017  108795   \n",
       "7     3/5    0.92  Wonder Woman         nigel-andrews  2017  108795   \n",
       "\n",
       "                               Genres  \n",
       "0  Action|Adventure|Animation|Fantasy  \n",
       "2  Action|Adventure|Animation|Fantasy  \n",
       "3  Action|Adventure|Animation|Fantasy  \n",
       "5  Action|Adventure|Animation|Fantasy  \n",
       "7  Action|Adventure|Animation|Fantasy  "
      ]
     },
     "execution_count": 65,
     "metadata": {},
     "output_type": "execute_result"
    }
   ],
   "source": [
    "all_critic_opinions1.head()"
   ]
  },
  {
   "cell_type": "code",
   "execution_count": 15,
   "metadata": {},
   "outputs": [
    {
     "data": {
      "text/plain": [
       "1359"
      ]
     },
     "execution_count": 15,
     "metadata": {},
     "output_type": "execute_result"
    }
   ],
   "source": [
    "len(all_critic_opinions1['Critic'].unique())"
   ]
  },
  {
   "cell_type": "code",
   "execution_count": 116,
   "metadata": {},
   "outputs": [
    {
     "data": {
      "text/plain": [
       "817"
      ]
     },
     "execution_count": 116,
     "metadata": {},
     "output_type": "execute_result"
    }
   ],
   "source": [
    "len(all_critic_opinions1['Genres'].unique())"
   ]
  },
  {
   "cell_type": "markdown",
   "metadata": {},
   "source": [
    "__Dropping all the rows containing the \"no genres\" information:__"
   ]
  },
  {
   "cell_type": "code",
   "execution_count": 66,
   "metadata": {},
   "outputs": [],
   "source": [
    "all_critic_opinions1=all_critic_opinions1.drop(all_critic_opinions1[all_critic_opinions1['Genres'].str.contains('no genres')].index)"
   ]
  },
  {
   "cell_type": "markdown",
   "metadata": {},
   "source": [
    "__Adding additional column for grouped genres:__"
   ]
  },
  {
   "cell_type": "code",
   "execution_count": 67,
   "metadata": {},
   "outputs": [
    {
     "data": {
      "text/html": [
       "<div>\n",
       "<style scoped>\n",
       "    .dataframe tbody tr th:only-of-type {\n",
       "        vertical-align: middle;\n",
       "    }\n",
       "\n",
       "    .dataframe tbody tr th {\n",
       "        vertical-align: top;\n",
       "    }\n",
       "\n",
       "    .dataframe thead th {\n",
       "        text-align: right;\n",
       "    }\n",
       "</style>\n",
       "<table border=\"1\" class=\"dataframe\">\n",
       "  <thead>\n",
       "    <tr style=\"text-align: right;\">\n",
       "      <th></th>\n",
       "      <th>CRating</th>\n",
       "      <th>TMeter</th>\n",
       "      <th>Title</th>\n",
       "      <th>Critic</th>\n",
       "      <th>Year</th>\n",
       "      <th>ID</th>\n",
       "      <th>Genres</th>\n",
       "      <th>Genres1</th>\n",
       "    </tr>\n",
       "  </thead>\n",
       "  <tbody>\n",
       "    <tr>\n",
       "      <th>0</th>\n",
       "      <td>3.5/5</td>\n",
       "      <td>0.92</td>\n",
       "      <td>Wonder Woman</td>\n",
       "      <td>alex-abad-santos</td>\n",
       "      <td>2017</td>\n",
       "      <td>108795</td>\n",
       "      <td>Action|Adventure|Animation|Fantasy</td>\n",
       "      <td>Action|Adventure|Animation|Fantasy</td>\n",
       "    </tr>\n",
       "    <tr>\n",
       "      <th>2</th>\n",
       "      <td>3/4</td>\n",
       "      <td>0.92</td>\n",
       "      <td>Wonder Woman</td>\n",
       "      <td>thelma-adams</td>\n",
       "      <td>2017</td>\n",
       "      <td>108795</td>\n",
       "      <td>Action|Adventure|Animation|Fantasy</td>\n",
       "      <td>Action|Adventure|Animation|Fantasy</td>\n",
       "    </tr>\n",
       "    <tr>\n",
       "      <th>3</th>\n",
       "      <td>4/5</td>\n",
       "      <td>0.92</td>\n",
       "      <td>Wonder Woman</td>\n",
       "      <td>sergio-lopez-aguirre</td>\n",
       "      <td>2017</td>\n",
       "      <td>108795</td>\n",
       "      <td>Action|Adventure|Animation|Fantasy</td>\n",
       "      <td>Action|Adventure|Animation|Fantasy</td>\n",
       "    </tr>\n",
       "    <tr>\n",
       "      <th>5</th>\n",
       "      <td>3.5/4</td>\n",
       "      <td>0.92</td>\n",
       "      <td>Wonder Woman</td>\n",
       "      <td>jeffrey-m-anderson</td>\n",
       "      <td>2017</td>\n",
       "      <td>108795</td>\n",
       "      <td>Action|Adventure|Animation|Fantasy</td>\n",
       "      <td>Action|Adventure|Animation|Fantasy</td>\n",
       "    </tr>\n",
       "    <tr>\n",
       "      <th>7</th>\n",
       "      <td>3/5</td>\n",
       "      <td>0.92</td>\n",
       "      <td>Wonder Woman</td>\n",
       "      <td>nigel-andrews</td>\n",
       "      <td>2017</td>\n",
       "      <td>108795</td>\n",
       "      <td>Action|Adventure|Animation|Fantasy</td>\n",
       "      <td>Action|Adventure|Animation|Fantasy</td>\n",
       "    </tr>\n",
       "  </tbody>\n",
       "</table>\n",
       "</div>"
      ],
      "text/plain": [
       "  CRating  TMeter         Title                Critic  Year      ID  \\\n",
       "0   3.5/5    0.92  Wonder Woman      alex-abad-santos  2017  108795   \n",
       "2     3/4    0.92  Wonder Woman          thelma-adams  2017  108795   \n",
       "3     4/5    0.92  Wonder Woman  sergio-lopez-aguirre  2017  108795   \n",
       "5   3.5/4    0.92  Wonder Woman    jeffrey-m-anderson  2017  108795   \n",
       "7     3/5    0.92  Wonder Woman         nigel-andrews  2017  108795   \n",
       "\n",
       "                               Genres                             Genres1  \n",
       "0  Action|Adventure|Animation|Fantasy  Action|Adventure|Animation|Fantasy  \n",
       "2  Action|Adventure|Animation|Fantasy  Action|Adventure|Animation|Fantasy  \n",
       "3  Action|Adventure|Animation|Fantasy  Action|Adventure|Animation|Fantasy  \n",
       "5  Action|Adventure|Animation|Fantasy  Action|Adventure|Animation|Fantasy  \n",
       "7  Action|Adventure|Animation|Fantasy  Action|Adventure|Animation|Fantasy  "
      ]
     },
     "execution_count": 67,
     "metadata": {},
     "output_type": "execute_result"
    }
   ],
   "source": [
    "all_critic_opinions1['Genres1']=all_critic_opinions1.Genres\n",
    "all_critic_opinions1.head()"
   ]
  },
  {
   "cell_type": "markdown",
   "metadata": {},
   "source": [
    "__Genres grouping:__"
   ]
  },
  {
   "cell_type": "code",
   "execution_count": 68,
   "metadata": {},
   "outputs": [],
   "source": [
    "all_critic_opinions1['Genres1'] = all_critic_opinions1.Genres1.str.replace((r'(^.*Children.*$)'), 'Children')\n",
    "all_critic_opinions1['Genres1'] = all_critic_opinions1.Genres1.str.replace((r'(^.*Animation.*$)'), 'Animation')\n",
    "all_critic_opinions1['Genres1'] = all_critic_opinions1.Genres1.str.replace((r'(^.*Musical.*$)'), 'Musical')\n",
    "all_critic_opinions1['Genres1'] = all_critic_opinions1.Genres1.str.replace((r'(^.*Sci-Fi.*$)'), 'Sci-Fi')\n",
    "all_critic_opinions1['Genres1'] = all_critic_opinions1.Genres1.str.replace((r'(^.*Western.*$)'), 'Western')\n",
    "all_critic_opinions1['Genres1'] = all_critic_opinions1.Genres1.str.replace((r'(^.*War.*$)'), 'War')\n",
    "all_critic_opinions1['Genres1'] = all_critic_opinions1.Genres1.str.replace((r'(^.*Documentary.*$)'), 'Documentary')\n",
    "all_critic_opinions1['Genres1'] = all_critic_opinions1.Genres1.str.replace((r'(^.*Film-Noir.*$)'), 'Film-Noir')"
   ]
  },
  {
   "cell_type": "code",
   "execution_count": 69,
   "metadata": {},
   "outputs": [],
   "source": [
    "all_critic_opinions1.loc[all_critic_opinions1['Genres1']=='Thriller', 'Genres1'] = 'Crime|Drama|Thriller'\n",
    "all_critic_opinions1.loc[all_critic_opinions1['Genres1']=='Action|Crime|Drama|Thriller', 'Genres1'] = 'Crime|Drama|Thriller'\n",
    "all_critic_opinions1.loc[all_critic_opinions1['Genres1']=='Horror|Thriller', 'Genres1'] = 'Horror'\n",
    "all_critic_opinions1.loc[all_critic_opinions1['Genres1']=='Action|Thriller', 'Genres1'] = 'Crime|Drama|Thriller'\n",
    "all_critic_opinions1.loc[all_critic_opinions1['Genres1']=='Comedy|Drama|Romance', 'Genres1'] = 'Comedy|Romance'\n",
    "all_critic_opinions1.loc[all_critic_opinions1['Genres1']=='Drama|Mystery|Thriller', 'Genres1'] = 'Crime|Drama|Thriller'\n",
    "all_critic_opinions1.loc[all_critic_opinions1['Genres1']=='Drama|Thriller', 'Genres1'] = 'Crime|Drama|Thriller'\n",
    "all_critic_opinions1.loc[all_critic_opinions1['Genres1']=='Crime|Drama', 'Genres1'] = 'Crime|Drama|Thriller'\n",
    "all_critic_opinions1.loc[all_critic_opinions1['Genres1']=='Action|Comedy', 'Genres1'] = 'Comedy'\n",
    "all_critic_opinions1.loc[all_critic_opinions1['Genres1']=='Action|Comedy|Crime', 'Genres1'] = 'Comedy'\n",
    "all_critic_opinions1.loc[all_critic_opinions1['Genres1']=='Comedy|Crime', 'Genres1'] = 'Comedy'\n",
    "all_critic_opinions1.loc[all_critic_opinions1['Genres1']=='Drama|Horror|Thriller', 'Genres1'] = 'Horror'\n",
    "all_critic_opinions1.loc[all_critic_opinions1['Genres1']=='Action|Drama|Thriller', 'Genres1'] = 'Crime|Drama|Thriller'\n",
    "all_critic_opinions1.loc[all_critic_opinions1['Genres1']=='Crime|Thriller', 'Genres1'] = 'Crime|Drama|Thriller'\n",
    "all_critic_opinions1.loc[all_critic_opinions1['Genres1']=='Action|Drama', 'Genres1'] = 'Crime|Drama|Thriller'\n",
    "all_critic_opinions1.loc[all_critic_opinions1['Genres1']=='Crime|Drama|Mystery|Thriller', 'Genres1'] = 'Crime|Drama|Thriller'\n",
    "all_critic_opinions1.loc[all_critic_opinions1['Genres1']=='Comedy|Horror', 'Genres1'] = 'Comedy'\n",
    "all_critic_opinions1.loc[all_critic_opinions1['Genres1']=='Action|Crime|Drama', 'Genres1'] = 'Crime|Drama|Thriller'\n",
    "all_critic_opinions1.loc[all_critic_opinions1['Genres1']=='Comedy|Fantasy|Romance', 'Genres1'] = 'Comedy|Romance'\n",
    "all_critic_opinions1.loc[all_critic_opinions1['Genres1']=='Drama|Mystery', 'Genres1'] = 'Crime|Drama|Thriller'\n",
    "all_critic_opinions1.loc[all_critic_opinions1['Genres1']=='Horror|Mystery|Thriller', 'Genres1'] = 'Horror'\n",
    "all_critic_opinions1.loc[all_critic_opinions1['Genres1']=='Drama|Fantasy|Romance', 'Genres1'] = 'Drama|Romance'"
   ]
  },
  {
   "cell_type": "code",
   "execution_count": 72,
   "metadata": {},
   "outputs": [],
   "source": [
    "all_critic_opinions1['Genres1'] = all_critic_opinions1.Genres1.str.replace((r'(^.*Crime.*$)'), 'Crime|Thriller')\n",
    "all_critic_opinions1['Genres1'] = all_critic_opinions1.Genres1.str.replace((r'(^.*Adventure.*$)'), 'Action|Adventure')\n",
    "all_critic_opinions1['Genres1'] = all_critic_opinions1.Genres1.str.replace((r'(^.*Horror.*$)'), 'Horror')\n",
    "all_critic_opinions1['Genres1'] = all_critic_opinions1.Genres1.str.replace((r'(^.*Thriller.*$)'), 'Crime|Thriller')\n",
    "all_critic_opinions1['Genres1'] = all_critic_opinions1.Genres1.str.replace((r'(^.*IMAX.*$)'), 'Action|Adventure')\n",
    "all_critic_opinions1['Genres1'] = all_critic_opinions1.Genres1.str.replace((r'(^.*Fantasy.*$)'), 'Fantasy')\n",
    "all_critic_opinions1['Genres1'] = all_critic_opinions1.Genres1.str.replace((r'(^.*Mystery.*$)'), 'Mystery')"
   ]
  },
  {
   "cell_type": "code",
   "execution_count": 76,
   "metadata": {},
   "outputs": [],
   "source": [
    "all_critic_opinions1.loc[all_critic_opinions1['Genres1']=='Action|Comedy|Romance', 'Genres1'] = 'Comedy|Romance'\n",
    "all_critic_opinions1.loc[all_critic_opinions1['Genres1']=='Action|Romance', 'Genres1'] = 'Comedy|Romance'\n",
    "all_critic_opinions1.loc[all_critic_opinions1['Genres1']=='Action', 'Genres1'] = 'Action|Adventure'\n",
    "all_critic_opinions1.loc[all_critic_opinions1['Genres1']=='Action|Comedy|Drama', 'Genres1'] = 'Comedy|Drama'\n",
    "all_critic_opinions1.loc[all_critic_opinions1['Genres1']=='Action|Comedy|Drama|Romance', 'Genres1'] = 'Comedy|Drama'\n",
    "all_critic_opinions1.loc[all_critic_opinions1['Genres1']=='Action|Drama|Romance', 'Genres1'] = 'Drama|Romance'\n",
    "all_critic_opinions1.loc[all_critic_opinions1['Genres1']=='Romance', 'Genres1'] = 'Drama|Romance'\n",
    "all_critic_opinions1.loc[all_critic_opinions1['Genres1']=='Mystery', 'Genres1'] = 'Crime|Thriller'\n",
    "all_critic_opinions1.loc[all_critic_opinions1['Genres1']=='Film-Noir', 'Genres1'] = 'Crime|Thriller'\n",
    "all_critic_opinions1.loc[all_critic_opinions1['Genres1']=='Fantasy', 'Genres1'] = 'Sci-Fi'\n",
    "all_critic_opinions1.loc[all_critic_opinions1['Genres1']=='Western', 'Genres1'] = 'Action|Adventure'\n",
    "all_critic_opinions1.loc[all_critic_opinions1['Genres1']=='Animation', 'Genres1'] = 'Children'\n",
    "all_critic_opinions1.loc[all_critic_opinions1['Genres1']=='Children', 'Genres1'] = 'Children|Animation'\n",
    "all_critic_opinions1.loc[all_critic_opinions1['Genres1']=='Action|Adventure', 'Genres1'] = 'Action|Adventure|Western'\n",
    "all_critic_opinions1.loc[all_critic_opinions1['Genres1']=='Sci-Fi', 'Genres1'] = 'Sci-Fi|Fantasy'"
   ]
  },
  {
   "cell_type": "code",
   "execution_count": 82,
   "metadata": {},
   "outputs": [
    {
     "data": {
      "text/plain": [
       "(199553, 8)"
      ]
     },
     "execution_count": 82,
     "metadata": {},
     "output_type": "execute_result"
    }
   ],
   "source": [
    "all_critic_opinions1.shape"
   ]
  },
  {
   "cell_type": "markdown",
   "metadata": {},
   "source": [
    "__The number of film genres was lowered from 817 to 13:__"
   ]
  },
  {
   "cell_type": "code",
   "execution_count": 83,
   "metadata": {},
   "outputs": [
    {
     "data": {
      "text/plain": [
       "array(['Action|Adventure|Western', 'Children|Animation', 'Comedy',\n",
       "       'Comedy|Drama', 'Comedy|Romance', 'Crime|Thriller', 'Documentary',\n",
       "       'Drama', 'Drama|Romance', 'Horror', 'Musical', 'Sci-Fi|Fantasy',\n",
       "       'War'], dtype='<U24')"
      ]
     },
     "execution_count": 83,
     "metadata": {},
     "output_type": "execute_result"
    }
   ],
   "source": [
    "list_genres=all_critic_opinions1['Genres1'].tolist()\n",
    "np.unique(list_genres)"
   ]
  },
  {
   "cell_type": "code",
   "execution_count": 84,
   "metadata": {},
   "outputs": [
    {
     "data": {
      "text/plain": [
       "Crime|Thriller              38318\n",
       "Drama                       26479\n",
       "Sci-Fi|Fantasy              20660\n",
       "Comedy                      17692\n",
       "Children|Animation          15167\n",
       "Comedy|Romance              14151\n",
       "Action|Adventure|Western    12858\n",
       "Documentary                 12080\n",
       "Horror                      11550\n",
       "Comedy|Drama                10428\n",
       "Drama|Romance                8724\n",
       "War                          6588\n",
       "Musical                      4858\n",
       "Name: Genres1, dtype: int64"
      ]
     },
     "execution_count": 84,
     "metadata": {},
     "output_type": "execute_result"
    }
   ],
   "source": [
    "all_critic_opinions1['Genres1'].value_counts()"
   ]
  },
  {
   "cell_type": "markdown",
   "metadata": {},
   "source": [
    "__The number of critic scores' types was lowered to the ones presented below. The replace operation was performed manually, because due to the very low quality of data and several types of typing errors creating some regex rules would be more time consuming than simple manual replacement:__"
   ]
  },
  {
   "cell_type": "code",
   "execution_count": 126,
   "metadata": {},
   "outputs": [
    {
     "data": {
      "text/plain": [
       "array([0.7 , 0.75, 0.8 , 0.87, 0.6 , 0.85, 0.5 , 0.93, 0.62, 0.9 , 1.  ,\n",
       "       0.4 , 0.95, 0.82, 0.3 , 0.07, 0.37, 0.25, 0.55, 0.2 , 0.47, 0.  ,\n",
       "       0.65, 0.35, 0.45, 0.1 , 0.27, 0.12, 0.48, 0.67, 0.66, 0.58, 0.88,\n",
       "       0.83, 0.99, 0.57, 0.86, 0.46, 0.94, 0.44, 0.68, 0.64, 0.42, 0.63,\n",
       "       0.78, 0.72, 0.76, 0.74, 0.73, 0.56, 0.43, 0.52, 0.84, 0.38, 0.53,\n",
       "       0.15, 0.54, 0.17, 0.39, 0.77, 0.89, 0.34, 0.92, 0.97, 0.29, 0.98,\n",
       "       0.26, 0.49, 0.96, 0.41, 0.71, 0.32, 0.28, 0.36, 0.23, 0.14, 0.13,\n",
       "       0.69, 0.33, 0.24, 0.08, 0.59])"
      ]
     },
     "execution_count": 126,
     "metadata": {},
     "output_type": "execute_result"
    }
   ],
   "source": [
    "all_critic_opinions1['CRating'].unique()"
   ]
  },
  {
   "cell_type": "code",
   "execution_count": 102,
   "metadata": {},
   "outputs": [],
   "source": [
    "all_critic_opinions1[\"CRating\"]=all_critic_opinions1.CRating.replace(['C minus',\n",
    "       'Strongly Not Recommended', '+1 out of -4..+4', '82/100', '6.0/10',\n",
    "       '9/20', '19/20', '10/10', '3.0/5', '85/100', 'A minus', '4.5/10',\n",
    "       '6.6/10', '3.75/5', '0/4', '90/100', '58/100', '91/100', '8.8/10',\n",
    "       'non-numerical', '5.0/10', '2.1/2', '88/100', '9.2/10', '8.9/10',\n",
    "       'c+', '4.5/5.0', '8.3/10', '4.0/5.0', '9.85/10', '5.0/5.0',\n",
    "       '9.5 out of 10', '4.0/5', '83/100', '10', '9.21/10', '2.3/4',\n",
    "       '81/100', '6 out of 10', 'B plus', '8.621/10', '.5/4', '80/100'],[0.47,0.0,0.67,0.8,0.6,0.45,0.95,1.0,0.6,0.85,0.87,0.45,\n",
    "                                                                        0.66,0.75,0.0,0.9,0.58,0.9,0.88,0.0,0.5,0.4,0.88,0.9,0.9,\n",
    "                                                                        0.6,0.9,0.83,0.8,0.99,1.0,0.95,0.8,0.83,1.0,0.9,0.57,0.8,\n",
    "                                                                        0.6,0.8,0.86,0.12,0.8])\n"
   ]
  },
  {
   "cell_type": "code",
   "execution_count": 117,
   "metadata": {},
   "outputs": [],
   "source": [
    "all_critic_opinions1[\"CRating\"]=all_critic_opinions1.CRating.replace(['5.78/10', '5.51/10',\n",
    "       '6.95/10', '3.85/10', '20/100', '35./4', '0.0/4.0', '3/3',\n",
    "       '3.20/10', '3.6/5', '8.21/10', '4.6/10', '4.7/10', '4.8/5',\n",
    "       '5.5 out of 10', '***1/2', '9.78/10', '3.5 stars', '59/100',\n",
    "       '7.01/10', '8.87/10', '8.6 out of 10', '5.0', '8', '4.9/10', '.5',\n",
    "       '1.5/2', '8.61/10', '5.212/10', '-1 out of -4..+4', '7.0',\n",
    "       '95/100', '5.70/10', '6/11', 'd-', '35/4', '36/100', '51/100',\n",
    "       '9.52/10', '****', '9.121/10', '8.88/10', '+', '5.9821/10', '45',\n",
    "       '9.66/10', '8.20/10', '27/100', '8.65/10', \"'3.75/5'\", '0.0/4',\n",
    "       'high +1 out of -4..+4', '2/7', 'low +1 out of -4..+4',\n",
    "       '7.3856/10', '1.5.4', '2/2', 'C +', '9.851/10', '2.0/3.0'],[0.58,0.55,0.7,0.4,0.2,0.87,0.0,1.0,0.32,0.72,0.82,0.46,0.47,\n",
    "                                                                  1.0,0.55,0.7,0.98,0.7,0.6,0.7,0.88,0.86,1.0,0.8,0.5,0.5,0.75,\n",
    "                                                                  0.86,0.5,0.45,0.7,0.95,0.57,0.55,0.27,0.87,0.36,0.5,0.9,0.8,\n",
    "                                                                  0.9,0.89,0.6,0.6,0.45,0.97,0.82,0.27,0.86,0.8,0.0,0.67,0.28,0.67,\n",
    "                                                                  0.73,0.37,1.0,0.6,0.98,0.66])"
   ]
  },
  {
   "cell_type": "code",
   "execution_count": 128,
   "metadata": {},
   "outputs": [],
   "source": [
    "all_critic_opinions1.to_csv('all_critic_opinions_with_notes.csv')"
   ]
  },
  {
   "cell_type": "code",
   "execution_count": null,
   "metadata": {},
   "outputs": [],
   "source": []
  }
 ],
 "metadata": {
  "kernelspec": {
   "display_name": "Python 3",
   "language": "python",
   "name": "python3"
  },
  "language_info": {
   "codemirror_mode": {
    "name": "ipython",
    "version": 3
   },
   "file_extension": ".py",
   "mimetype": "text/x-python",
   "name": "python",
   "nbconvert_exporter": "python",
   "pygments_lexer": "ipython3",
   "version": "3.6.6"
  }
 },
 "nbformat": 4,
 "nbformat_minor": 2
}
